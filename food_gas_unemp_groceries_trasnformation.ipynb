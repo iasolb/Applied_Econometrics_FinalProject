{
 "cells": [
  {
   "cell_type": "code",
   "execution_count": 57,
   "id": "4abdfd39",
   "metadata": {},
   "outputs": [],
   "source": [
    "import pandas as pd"
   ]
  },
  {
   "cell_type": "code",
   "execution_count": 58,
   "id": "bf897991",
   "metadata": {},
   "outputs": [],
   "source": [
    "fastfood = 'data/fasfood_data.csv'\n",
    "food_at_home = 'data/foodathome.csv'\n",
    "food_away_from_home = 'data/food_away_from_home.csv'\n",
    "gas_prices = 'data/gas_prices.csv'\n",
    "grocery_sale = 'data/grocery_sale_data.csv'\n",
    "grocery_prices = 'data/groceryprices.csv'\n",
    "unemployment = 'data/UNRATE.csv'"
   ]
  },
  {
   "cell_type": "code",
   "execution_count": 59,
   "id": "a2935ad8",
   "metadata": {},
   "outputs": [],
   "source": [
    "fastfood_df = pd.read_csv(fastfood)\n",
    "food_at_home_df = pd.read_csv(food_at_home)\n",
    "food_away_from_home_df = pd.read_csv(food_away_from_home)\n",
    "gas_prices_df = pd.read_csv(gas_prices)\n",
    "grocery_sale_df = pd.read_csv(grocery_sale)\n",
    "grocery_prices_df = pd.read_csv(grocery_prices)\n",
    "unemployment_df = pd.read_csv(unemployment)\n",
    "\n"
   ]
  },
  {
   "cell_type": "code",
   "execution_count": 66,
   "id": "3b3eacd5",
   "metadata": {},
   "outputs": [],
   "source": [
    "def transform_df_to_yearly(df):\n",
    "    df['observation_date'] = pd.to_datetime(df['observation_date'])\n",
    "    df['Year'] = df['observation_date'].dt.year\n",
    "    yearly_df = df.groupby('Year').mean().reset_index()\n",
    "    yearly_df.drop(columns=['observation_date'], inplace=True)\n",
    "    return yearly_df"
   ]
  },
  {
   "cell_type": "code",
   "execution_count": 67,
   "id": "e9a442d8",
   "metadata": {},
   "outputs": [],
   "source": [
    "fastfood_yearly = transform_df_to_yearly(fastfood_df)\n",
    "food_at_home_yearly = transform_df_to_yearly(food_at_home_df)\n",
    "food_away_from_home_yearly = transform_df_to_yearly(food_away_from_home_df)\n",
    "gas_prices_yearly = transform_df_to_yearly(gas_prices_df)\n",
    "grocery_sale_yearly = transform_df_to_yearly(grocery_sale_df)\n",
    "grocery_prices_yearly = transform_df_to_yearly(grocery_prices_df)\n",
    "unemployment_yearly = transform_df_to_yearly(unemployment_df)"
   ]
  },
  {
   "cell_type": "code",
   "execution_count": 69,
   "id": "9a79126a",
   "metadata": {},
   "outputs": [
    {
     "name": "stdout",
     "output_type": "stream",
     "text": [
      "fastfood yearly data: First Year - 1992, Last Year - 2025\n",
      "food_at_home yearly data: First Year - 1952, Last Year - 2025\n",
      "food_away_from_home yearly data: First Year - 1953, Last Year - 2025\n",
      "gas_prices yearly data: First Year - 1967, Last Year - 2025\n",
      "grocery_sale yearly data: First Year - 1992, Last Year - 2025\n",
      "grocery_prices yearly data: First Year - 1952, Last Year - 2025\n",
      "unemployment yearly data: First Year - 1948, Last Year - 2025\n"
     ]
    }
   ],
   "source": [
    "yearly_dfs = {\n",
    "    'fastfood': fastfood_yearly,\n",
    "    'food_at_home': food_at_home_yearly,\n",
    "    'food_away_from_home': food_away_from_home_yearly,\n",
    "    'gas_prices': gas_prices_yearly,\n",
    "    'grocery_sale': grocery_sale_yearly,\n",
    "    'grocery_prices': grocery_prices_yearly,\n",
    "    'unemployment': unemployment_yearly\n",
    "}\n",
    "for name, df in yearly_dfs.items():\n",
    "    print(f\"{name} yearly data: First Year - {df['Year'].min()}, Last Year - {df['Year'].max()}\")"
   ]
  },
  {
   "cell_type": "code",
   "execution_count": 70,
   "id": "59fc231d",
   "metadata": {},
   "outputs": [
    {
     "name": "stdout",
     "output_type": "stream",
     "text": [
      "fastfood subset data: First Year - 2013, Last Year - 2023\n",
      "food_at_home subset data: First Year - 2013, Last Year - 2023\n",
      "food_away_from_home subset data: First Year - 2013, Last Year - 2023\n",
      "gas_prices subset data: First Year - 2013, Last Year - 2023\n",
      "grocery_sale subset data: First Year - 2013, Last Year - 2023\n",
      "grocery_prices subset data: First Year - 2013, Last Year - 2023\n",
      "unemployment subset data: First Year - 2013, Last Year - 2023\n"
     ]
    }
   ],
   "source": [
    "def get_2013to2023_data(df):\n",
    "    return df[(df['Year'] >= 2013) & (df['Year'] <= 2023)].reset_index(drop=True)\n",
    "\n",
    "subset_yearly_dfs = {name: get_2013to2023_data(df) for name, df in yearly_dfs.items()}\n",
    "for name, df in subset_yearly_dfs.items():\n",
    "    print(f\"{name} subset data: First Year - {df['Year'].min()}, Last Year - {df['Year'].max()}\")\n"
   ]
  },
  {
   "cell_type": "code",
   "execution_count": 72,
   "id": "0d9c8c4a",
   "metadata": {},
   "outputs": [],
   "source": [
    "# Put all Dataframes side by side for comparison\n",
    "combined_df = subset_yearly_dfs['fastfood'], subset_yearly_dfs['food_at_home'], subset_yearly_dfs['food_away_from_home'], subset_yearly_dfs['gas_prices'], subset_yearly_dfs['grocery_sale'], subset_yearly_dfs['grocery_prices'], subset_yearly_dfs['unemployment']\n",
    "combined_df = pd.concat(combined_df, axis=1)\n",
    "combined_df = combined_df.loc[:,~combined_df.columns.duplicated()]\n",
    "combined_df.set_index('Year', inplace=True)"
   ]
  },
  {
   "cell_type": "code",
   "execution_count": 74,
   "id": "bae9c41c",
   "metadata": {},
   "outputs": [
    {
     "data": {
      "text/plain": [
       "Index(['RSFSDP', 'CUSR0000SAF11', 'CUSR0000SEFV', 'CUSR0000SETB01',\n",
       "       'MRTSSM4451USS', 'UNRATE'],\n",
       "      dtype='object')"
      ]
     },
     "execution_count": 74,
     "metadata": {},
     "output_type": "execute_result"
    }
   ],
   "source": [
    "combined_df.columns"
   ]
  },
  {
   "cell_type": "code",
   "execution_count": 76,
   "id": "dd691fde",
   "metadata": {},
   "outputs": [
    {
     "data": {
      "application/vnd.microsoft.datawrangler.viewer.v0+json": {
       "columns": [
        {
         "name": "Year",
         "rawType": "int32",
         "type": "integer"
        },
        {
         "name": "Fast Food Sales ($)",
         "rawType": "float64",
         "type": "float"
        },
        {
         "name": "Food at Home CPI",
         "rawType": "float64",
         "type": "float"
        },
        {
         "name": "Food Away from Home CPI",
         "rawType": "float64",
         "type": "float"
        },
        {
         "name": "Gasoline CPI",
         "rawType": "float64",
         "type": "float"
        },
        {
         "name": "Grocery Store Sales ($)",
         "rawType": "float64",
         "type": "float"
        },
        {
         "name": "Unemployment Rate (%)",
         "rawType": "float64",
         "type": "float"
        }
       ],
       "ref": "cad90c94-92e3-423c-b29a-47cb1ec4db9d",
       "rows": [
        [
         "2013",
         "44330.0",
         "233.85483333333332",
         "243.0685",
         "302.37983333333335",
         "47689.75",
         "7.358333333333333"
        ],
        [
         "2014",
         "47038.333333333336",
         "239.44933333333333",
         "248.98108333333334",
         "290.2775833333333",
         "49831.583333333336",
         "6.158333333333334"
        ],
        [
         "2015",
         "50900.166666666664",
         "242.25008333333335",
         "256.10066666666665",
         "211.44716666666667",
         "51064.083333333336",
         "5.2749999999999995"
        ],
        [
         "2016",
         "53512.916666666664",
         "239.07141666666666",
         "262.69533333333334",
         "187.532",
         "51881.416666666664",
         "4.875"
        ],
        [
         "2017",
         "56552.75",
         "238.59408333333332",
         "268.8258333333333",
         "212.11991666666665",
         "54201.333333333336",
         "4.358333333333333"
        ],
        [
         "2018",
         "59779.5",
         "239.6593333333333",
         "275.8930833333333",
         "240.45725000000002",
         "55724.083333333336",
         "3.891666666666666"
        ],
        [
         "2019",
         "63149.333333333336",
         "241.76675",
         "284.4096666666667",
         "231.86749999999998",
         "57602.25",
         "3.6750000000000003"
        ],
        [
         "2020",
         "53534.75",
         "250.21283333333335",
         "293.9443333333333",
         "194.98141666666666",
         "62868.583333333336",
         "8.1"
        ],
        [
         "2021",
         "68658.08333333333",
         "258.8825",
         "307.29608333333334",
         "264.05383333333333",
         "65824.75",
         "5.358333333333333"
        ],
        [
         "2022",
         "79700.08333333333",
         "288.45758333333333",
         "330.822",
         "346.8264166666667",
         "71169.16666666667",
         "3.641666666666667"
        ],
        [
         "2023",
         "88900.75",
         "302.91058333333336",
         "354.2556666666667",
         "311.67675",
         "72878.16666666667",
         "3.6333333333333333"
        ]
       ],
       "shape": {
        "columns": 6,
        "rows": 11
       }
      },
      "text/html": [
       "<div>\n",
       "<style scoped>\n",
       "    .dataframe tbody tr th:only-of-type {\n",
       "        vertical-align: middle;\n",
       "    }\n",
       "\n",
       "    .dataframe tbody tr th {\n",
       "        vertical-align: top;\n",
       "    }\n",
       "\n",
       "    .dataframe thead th {\n",
       "        text-align: right;\n",
       "    }\n",
       "</style>\n",
       "<table border=\"1\" class=\"dataframe\">\n",
       "  <thead>\n",
       "    <tr style=\"text-align: right;\">\n",
       "      <th></th>\n",
       "      <th>Fast Food Sales ($)</th>\n",
       "      <th>Food at Home CPI</th>\n",
       "      <th>Food Away from Home CPI</th>\n",
       "      <th>Gasoline CPI</th>\n",
       "      <th>Grocery Store Sales ($)</th>\n",
       "      <th>Unemployment Rate (%)</th>\n",
       "    </tr>\n",
       "    <tr>\n",
       "      <th>Year</th>\n",
       "      <th></th>\n",
       "      <th></th>\n",
       "      <th></th>\n",
       "      <th></th>\n",
       "      <th></th>\n",
       "      <th></th>\n",
       "    </tr>\n",
       "  </thead>\n",
       "  <tbody>\n",
       "    <tr>\n",
       "      <th>2013</th>\n",
       "      <td>44330.000000</td>\n",
       "      <td>233.854833</td>\n",
       "      <td>243.068500</td>\n",
       "      <td>302.379833</td>\n",
       "      <td>47689.750000</td>\n",
       "      <td>7.358333</td>\n",
       "    </tr>\n",
       "    <tr>\n",
       "      <th>2014</th>\n",
       "      <td>47038.333333</td>\n",
       "      <td>239.449333</td>\n",
       "      <td>248.981083</td>\n",
       "      <td>290.277583</td>\n",
       "      <td>49831.583333</td>\n",
       "      <td>6.158333</td>\n",
       "    </tr>\n",
       "    <tr>\n",
       "      <th>2015</th>\n",
       "      <td>50900.166667</td>\n",
       "      <td>242.250083</td>\n",
       "      <td>256.100667</td>\n",
       "      <td>211.447167</td>\n",
       "      <td>51064.083333</td>\n",
       "      <td>5.275000</td>\n",
       "    </tr>\n",
       "    <tr>\n",
       "      <th>2016</th>\n",
       "      <td>53512.916667</td>\n",
       "      <td>239.071417</td>\n",
       "      <td>262.695333</td>\n",
       "      <td>187.532000</td>\n",
       "      <td>51881.416667</td>\n",
       "      <td>4.875000</td>\n",
       "    </tr>\n",
       "    <tr>\n",
       "      <th>2017</th>\n",
       "      <td>56552.750000</td>\n",
       "      <td>238.594083</td>\n",
       "      <td>268.825833</td>\n",
       "      <td>212.119917</td>\n",
       "      <td>54201.333333</td>\n",
       "      <td>4.358333</td>\n",
       "    </tr>\n",
       "    <tr>\n",
       "      <th>2018</th>\n",
       "      <td>59779.500000</td>\n",
       "      <td>239.659333</td>\n",
       "      <td>275.893083</td>\n",
       "      <td>240.457250</td>\n",
       "      <td>55724.083333</td>\n",
       "      <td>3.891667</td>\n",
       "    </tr>\n",
       "    <tr>\n",
       "      <th>2019</th>\n",
       "      <td>63149.333333</td>\n",
       "      <td>241.766750</td>\n",
       "      <td>284.409667</td>\n",
       "      <td>231.867500</td>\n",
       "      <td>57602.250000</td>\n",
       "      <td>3.675000</td>\n",
       "    </tr>\n",
       "    <tr>\n",
       "      <th>2020</th>\n",
       "      <td>53534.750000</td>\n",
       "      <td>250.212833</td>\n",
       "      <td>293.944333</td>\n",
       "      <td>194.981417</td>\n",
       "      <td>62868.583333</td>\n",
       "      <td>8.100000</td>\n",
       "    </tr>\n",
       "    <tr>\n",
       "      <th>2021</th>\n",
       "      <td>68658.083333</td>\n",
       "      <td>258.882500</td>\n",
       "      <td>307.296083</td>\n",
       "      <td>264.053833</td>\n",
       "      <td>65824.750000</td>\n",
       "      <td>5.358333</td>\n",
       "    </tr>\n",
       "    <tr>\n",
       "      <th>2022</th>\n",
       "      <td>79700.083333</td>\n",
       "      <td>288.457583</td>\n",
       "      <td>330.822000</td>\n",
       "      <td>346.826417</td>\n",
       "      <td>71169.166667</td>\n",
       "      <td>3.641667</td>\n",
       "    </tr>\n",
       "    <tr>\n",
       "      <th>2023</th>\n",
       "      <td>88900.750000</td>\n",
       "      <td>302.910583</td>\n",
       "      <td>354.255667</td>\n",
       "      <td>311.676750</td>\n",
       "      <td>72878.166667</td>\n",
       "      <td>3.633333</td>\n",
       "    </tr>\n",
       "  </tbody>\n",
       "</table>\n",
       "</div>"
      ],
      "text/plain": [
       "      Fast Food Sales ($)  Food at Home CPI  Food Away from Home CPI  \\\n",
       "Year                                                                   \n",
       "2013         44330.000000        233.854833               243.068500   \n",
       "2014         47038.333333        239.449333               248.981083   \n",
       "2015         50900.166667        242.250083               256.100667   \n",
       "2016         53512.916667        239.071417               262.695333   \n",
       "2017         56552.750000        238.594083               268.825833   \n",
       "2018         59779.500000        239.659333               275.893083   \n",
       "2019         63149.333333        241.766750               284.409667   \n",
       "2020         53534.750000        250.212833               293.944333   \n",
       "2021         68658.083333        258.882500               307.296083   \n",
       "2022         79700.083333        288.457583               330.822000   \n",
       "2023         88900.750000        302.910583               354.255667   \n",
       "\n",
       "      Gasoline CPI  Grocery Store Sales ($)  Unemployment Rate (%)  \n",
       "Year                                                                \n",
       "2013    302.379833             47689.750000               7.358333  \n",
       "2014    290.277583             49831.583333               6.158333  \n",
       "2015    211.447167             51064.083333               5.275000  \n",
       "2016    187.532000             51881.416667               4.875000  \n",
       "2017    212.119917             54201.333333               4.358333  \n",
       "2018    240.457250             55724.083333               3.891667  \n",
       "2019    231.867500             57602.250000               3.675000  \n",
       "2020    194.981417             62868.583333               8.100000  \n",
       "2021    264.053833             65824.750000               5.358333  \n",
       "2022    346.826417             71169.166667               3.641667  \n",
       "2023    311.676750             72878.166667               3.633333  "
      ]
     },
     "execution_count": 76,
     "metadata": {},
     "output_type": "execute_result"
    }
   ],
   "source": [
    "# Create a mapping of column codes to descriptive titles\n",
    "column_titles = {\n",
    "    'RSFSDP': 'Fast Food Sales ($)',\n",
    "    'CUSR0000SAF11': 'Food at Home CPI',\n",
    "    'CUSR0000SEFV': 'Food Away from Home CPI',\n",
    "    'CUSR0000SETB01': 'Gasoline CPI',\n",
    "    'MRTSSM4451USS': 'Grocery Store Sales ($)',\n",
    "    'UNRATE': 'Unemployment Rate (%)'\n",
    "}\n",
    "\n",
    "# Rename columns in combined_df for better readability\n",
    "combined_df_renamed = combined_df.rename(columns=column_titles)\n",
    "combined_df_renamed"
   ]
  },
  {
   "cell_type": "code",
   "execution_count": 78,
   "id": "cd6884b5",
   "metadata": {},
   "outputs": [],
   "source": [
    "other_data = 'data/combined_df.csv'\n",
    "other_data_df = pd.read_csv(other_data)\n",
    "other_data_df.set_index('Year', inplace=True)"
   ]
  },
  {
   "cell_type": "code",
   "execution_count": 79,
   "id": "08dfd780",
   "metadata": {},
   "outputs": [],
   "source": [
    "full_df = pd.concat([combined_df_renamed, other_data_df], axis=1)"
   ]
  },
  {
   "cell_type": "code",
   "execution_count": 81,
   "id": "7b38a389",
   "metadata": {},
   "outputs": [],
   "source": [
    "full_df.to_csv('final_data/transformed_dataset.csv')"
   ]
  }
 ],
 "metadata": {
  "kernelspec": {
   "display_name": "base",
   "language": "python",
   "name": "python3"
  },
  "language_info": {
   "codemirror_mode": {
    "name": "ipython",
    "version": 3
   },
   "file_extension": ".py",
   "mimetype": "text/x-python",
   "name": "python",
   "nbconvert_exporter": "python",
   "pygments_lexer": "ipython3",
   "version": "3.11.8"
  }
 },
 "nbformat": 4,
 "nbformat_minor": 5
}
