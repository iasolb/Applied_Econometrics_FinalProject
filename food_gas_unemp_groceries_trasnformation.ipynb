{
 "cells": [
  {
   "cell_type": "code",
   "execution_count": 2,
   "id": "4abdfd39",
   "metadata": {},
   "outputs": [],
   "source": [
    "import pandas as pd"
   ]
  },
  {
   "cell_type": "code",
   "execution_count": 4,
   "id": "bf897991",
   "metadata": {},
   "outputs": [],
   "source": [
    "fastfood = 'data/fasfood_data.csv'\n",
    "food_at_home = 'data/foodathome.csv'\n",
    "food_away_from_home = 'data/food_away_from_home.csv'\n",
    "gas_prices = 'data/gas_prices.csv'\n",
    "grocery_sale = 'data/grocery_sale_data.csv'\n",
    "grocery_prices = 'data/groceryprices.csv'\n",
    "unemployment = 'data/UNRATE.csv'"
   ]
  },
  {
   "cell_type": "code",
   "execution_count": 5,
   "id": "a2935ad8",
   "metadata": {},
   "outputs": [],
   "source": [
    "fastfood_df = pd.read_csv(fastfood)\n",
    "food_at_home_df = pd.read_csv(food_at_home)\n",
    "food_away_from_home_df = pd.read_csv(food_away_from_home)\n",
    "gas_prices_df = pd.read_csv(gas_prices)\n",
    "grocery_sale_df = pd.read_csv(grocery_sale)\n",
    "grocery_prices_df = pd.read_csv(grocery_prices)\n",
    "unemployment_df = pd.read_csv(unemployment)"
   ]
  },
  {
   "cell_type": "code",
   "execution_count": 8,
   "id": "260012d5",
   "metadata": {},
   "outputs": [
    {
     "data": {
      "application/vnd.microsoft.datawrangler.viewer.v0+json": {
       "columns": [
        {
         "name": "index",
         "rawType": "int64",
         "type": "integer"
        },
        {
         "name": "observation_date",
         "rawType": "object",
         "type": "string"
        },
        {
         "name": "RSFSDP",
         "rawType": "int64",
         "type": "integer"
        }
       ],
       "ref": "f2e6869d-978a-4404-9c40-bfa438d30f7e",
       "rows": [
        [
         "0",
         "1992-01-01",
         "16758"
        ],
        [
         "1",
         "1992-02-01",
         "16605"
        ],
        [
         "2",
         "1992-03-01",
         "16527"
        ],
        [
         "3",
         "1992-04-01",
         "16262"
        ],
        [
         "4",
         "1992-05-01",
         "16232"
        ]
       ],
       "shape": {
        "columns": 2,
        "rows": 5
       }
      },
      "text/html": [
       "<div>\n",
       "<style scoped>\n",
       "    .dataframe tbody tr th:only-of-type {\n",
       "        vertical-align: middle;\n",
       "    }\n",
       "\n",
       "    .dataframe tbody tr th {\n",
       "        vertical-align: top;\n",
       "    }\n",
       "\n",
       "    .dataframe thead th {\n",
       "        text-align: right;\n",
       "    }\n",
       "</style>\n",
       "<table border=\"1\" class=\"dataframe\">\n",
       "  <thead>\n",
       "    <tr style=\"text-align: right;\">\n",
       "      <th></th>\n",
       "      <th>observation_date</th>\n",
       "      <th>RSFSDP</th>\n",
       "    </tr>\n",
       "  </thead>\n",
       "  <tbody>\n",
       "    <tr>\n",
       "      <th>0</th>\n",
       "      <td>1992-01-01</td>\n",
       "      <td>16758</td>\n",
       "    </tr>\n",
       "    <tr>\n",
       "      <th>1</th>\n",
       "      <td>1992-02-01</td>\n",
       "      <td>16605</td>\n",
       "    </tr>\n",
       "    <tr>\n",
       "      <th>2</th>\n",
       "      <td>1992-03-01</td>\n",
       "      <td>16527</td>\n",
       "    </tr>\n",
       "    <tr>\n",
       "      <th>3</th>\n",
       "      <td>1992-04-01</td>\n",
       "      <td>16262</td>\n",
       "    </tr>\n",
       "    <tr>\n",
       "      <th>4</th>\n",
       "      <td>1992-05-01</td>\n",
       "      <td>16232</td>\n",
       "    </tr>\n",
       "  </tbody>\n",
       "</table>\n",
       "</div>"
      ],
      "text/plain": [
       "  observation_date  RSFSDP\n",
       "0       1992-01-01   16758\n",
       "1       1992-02-01   16605\n",
       "2       1992-03-01   16527\n",
       "3       1992-04-01   16262\n",
       "4       1992-05-01   16232"
      ]
     },
     "execution_count": 8,
     "metadata": {},
     "output_type": "execute_result"
    }
   ],
   "source": [
    "fastfood_df.head()"
   ]
  },
  {
   "cell_type": "code",
   "execution_count": 9,
   "id": "a8ac1b77",
   "metadata": {},
   "outputs": [
    {
     "data": {
      "application/vnd.microsoft.datawrangler.viewer.v0+json": {
       "columns": [
        {
         "name": "index",
         "rawType": "int64",
         "type": "integer"
        },
        {
         "name": "observation_date",
         "rawType": "object",
         "type": "string"
        },
        {
         "name": "CUSR0000SAF11",
         "rawType": "float64",
         "type": "float"
        }
       ],
       "ref": "047aae65-9c05-4171-896f-2b5148b3bce2",
       "rows": [
        [
         "0",
         "1952-01-01",
         "31.2"
        ],
        [
         "1",
         "1952-02-01",
         "30.7"
        ],
        [
         "2",
         "1952-03-01",
         "30.7"
        ],
        [
         "3",
         "1952-04-01",
         "30.8"
        ],
        [
         "4",
         "1952-05-01",
         "30.8"
        ]
       ],
       "shape": {
        "columns": 2,
        "rows": 5
       }
      },
      "text/html": [
       "<div>\n",
       "<style scoped>\n",
       "    .dataframe tbody tr th:only-of-type {\n",
       "        vertical-align: middle;\n",
       "    }\n",
       "\n",
       "    .dataframe tbody tr th {\n",
       "        vertical-align: top;\n",
       "    }\n",
       "\n",
       "    .dataframe thead th {\n",
       "        text-align: right;\n",
       "    }\n",
       "</style>\n",
       "<table border=\"1\" class=\"dataframe\">\n",
       "  <thead>\n",
       "    <tr style=\"text-align: right;\">\n",
       "      <th></th>\n",
       "      <th>observation_date</th>\n",
       "      <th>CUSR0000SAF11</th>\n",
       "    </tr>\n",
       "  </thead>\n",
       "  <tbody>\n",
       "    <tr>\n",
       "      <th>0</th>\n",
       "      <td>1952-01-01</td>\n",
       "      <td>31.2</td>\n",
       "    </tr>\n",
       "    <tr>\n",
       "      <th>1</th>\n",
       "      <td>1952-02-01</td>\n",
       "      <td>30.7</td>\n",
       "    </tr>\n",
       "    <tr>\n",
       "      <th>2</th>\n",
       "      <td>1952-03-01</td>\n",
       "      <td>30.7</td>\n",
       "    </tr>\n",
       "    <tr>\n",
       "      <th>3</th>\n",
       "      <td>1952-04-01</td>\n",
       "      <td>30.8</td>\n",
       "    </tr>\n",
       "    <tr>\n",
       "      <th>4</th>\n",
       "      <td>1952-05-01</td>\n",
       "      <td>30.8</td>\n",
       "    </tr>\n",
       "  </tbody>\n",
       "</table>\n",
       "</div>"
      ],
      "text/plain": [
       "  observation_date  CUSR0000SAF11\n",
       "0       1952-01-01           31.2\n",
       "1       1952-02-01           30.7\n",
       "2       1952-03-01           30.7\n",
       "3       1952-04-01           30.8\n",
       "4       1952-05-01           30.8"
      ]
     },
     "execution_count": 9,
     "metadata": {},
     "output_type": "execute_result"
    }
   ],
   "source": [
    "food_at_home_df.head()"
   ]
  },
  {
   "cell_type": "code",
   "execution_count": 10,
   "id": "2efec98f",
   "metadata": {},
   "outputs": [
    {
     "data": {
      "application/vnd.microsoft.datawrangler.viewer.v0+json": {
       "columns": [
        {
         "name": "index",
         "rawType": "int64",
         "type": "integer"
        },
        {
         "name": "observation_date",
         "rawType": "object",
         "type": "string"
        },
        {
         "name": "CUSR0000SETB01",
         "rawType": "float64",
         "type": "float"
        }
       ],
       "ref": "e365e9ed-aa57-45cf-9371-117a2fa38353",
       "rows": [
        [
         "0",
         "1967-01-01",
         "26.3"
        ],
        [
         "1",
         "1967-02-01",
         "26.2"
        ],
        [
         "2",
         "1967-03-01",
         "26.1"
        ],
        [
         "3",
         "1967-04-01",
         "26.4"
        ],
        [
         "4",
         "1967-05-01",
         "26.4"
        ]
       ],
       "shape": {
        "columns": 2,
        "rows": 5
       }
      },
      "text/html": [
       "<div>\n",
       "<style scoped>\n",
       "    .dataframe tbody tr th:only-of-type {\n",
       "        vertical-align: middle;\n",
       "    }\n",
       "\n",
       "    .dataframe tbody tr th {\n",
       "        vertical-align: top;\n",
       "    }\n",
       "\n",
       "    .dataframe thead th {\n",
       "        text-align: right;\n",
       "    }\n",
       "</style>\n",
       "<table border=\"1\" class=\"dataframe\">\n",
       "  <thead>\n",
       "    <tr style=\"text-align: right;\">\n",
       "      <th></th>\n",
       "      <th>observation_date</th>\n",
       "      <th>CUSR0000SETB01</th>\n",
       "    </tr>\n",
       "  </thead>\n",
       "  <tbody>\n",
       "    <tr>\n",
       "      <th>0</th>\n",
       "      <td>1967-01-01</td>\n",
       "      <td>26.3</td>\n",
       "    </tr>\n",
       "    <tr>\n",
       "      <th>1</th>\n",
       "      <td>1967-02-01</td>\n",
       "      <td>26.2</td>\n",
       "    </tr>\n",
       "    <tr>\n",
       "      <th>2</th>\n",
       "      <td>1967-03-01</td>\n",
       "      <td>26.1</td>\n",
       "    </tr>\n",
       "    <tr>\n",
       "      <th>3</th>\n",
       "      <td>1967-04-01</td>\n",
       "      <td>26.4</td>\n",
       "    </tr>\n",
       "    <tr>\n",
       "      <th>4</th>\n",
       "      <td>1967-05-01</td>\n",
       "      <td>26.4</td>\n",
       "    </tr>\n",
       "  </tbody>\n",
       "</table>\n",
       "</div>"
      ],
      "text/plain": [
       "  observation_date  CUSR0000SETB01\n",
       "0       1967-01-01            26.3\n",
       "1       1967-02-01            26.2\n",
       "2       1967-03-01            26.1\n",
       "3       1967-04-01            26.4\n",
       "4       1967-05-01            26.4"
      ]
     },
     "execution_count": 10,
     "metadata": {},
     "output_type": "execute_result"
    }
   ],
   "source": [
    "gas_prices_df.head()"
   ]
  },
  {
   "cell_type": "code",
   "execution_count": 11,
   "id": "6a9e8fb5",
   "metadata": {},
   "outputs": [
    {
     "data": {
      "application/vnd.microsoft.datawrangler.viewer.v0+json": {
       "columns": [
        {
         "name": "index",
         "rawType": "int64",
         "type": "integer"
        },
        {
         "name": "observation_date",
         "rawType": "object",
         "type": "string"
        },
        {
         "name": "CUSR0000SAF11",
         "rawType": "float64",
         "type": "float"
        }
       ],
       "ref": "c1d5fffb-4a28-4fd5-993a-fd0398e18a30",
       "rows": [
        [
         "0",
         "1952-01-01",
         "31.2"
        ],
        [
         "1",
         "1952-02-01",
         "30.7"
        ],
        [
         "2",
         "1952-03-01",
         "30.7"
        ],
        [
         "3",
         "1952-04-01",
         "30.8"
        ],
        [
         "4",
         "1952-05-01",
         "30.8"
        ]
       ],
       "shape": {
        "columns": 2,
        "rows": 5
       }
      },
      "text/html": [
       "<div>\n",
       "<style scoped>\n",
       "    .dataframe tbody tr th:only-of-type {\n",
       "        vertical-align: middle;\n",
       "    }\n",
       "\n",
       "    .dataframe tbody tr th {\n",
       "        vertical-align: top;\n",
       "    }\n",
       "\n",
       "    .dataframe thead th {\n",
       "        text-align: right;\n",
       "    }\n",
       "</style>\n",
       "<table border=\"1\" class=\"dataframe\">\n",
       "  <thead>\n",
       "    <tr style=\"text-align: right;\">\n",
       "      <th></th>\n",
       "      <th>observation_date</th>\n",
       "      <th>CUSR0000SAF11</th>\n",
       "    </tr>\n",
       "  </thead>\n",
       "  <tbody>\n",
       "    <tr>\n",
       "      <th>0</th>\n",
       "      <td>1952-01-01</td>\n",
       "      <td>31.2</td>\n",
       "    </tr>\n",
       "    <tr>\n",
       "      <th>1</th>\n",
       "      <td>1952-02-01</td>\n",
       "      <td>30.7</td>\n",
       "    </tr>\n",
       "    <tr>\n",
       "      <th>2</th>\n",
       "      <td>1952-03-01</td>\n",
       "      <td>30.7</td>\n",
       "    </tr>\n",
       "    <tr>\n",
       "      <th>3</th>\n",
       "      <td>1952-04-01</td>\n",
       "      <td>30.8</td>\n",
       "    </tr>\n",
       "    <tr>\n",
       "      <th>4</th>\n",
       "      <td>1952-05-01</td>\n",
       "      <td>30.8</td>\n",
       "    </tr>\n",
       "  </tbody>\n",
       "</table>\n",
       "</div>"
      ],
      "text/plain": [
       "  observation_date  CUSR0000SAF11\n",
       "0       1952-01-01           31.2\n",
       "1       1952-02-01           30.7\n",
       "2       1952-03-01           30.7\n",
       "3       1952-04-01           30.8\n",
       "4       1952-05-01           30.8"
      ]
     },
     "execution_count": 11,
     "metadata": {},
     "output_type": "execute_result"
    }
   ],
   "source": [
    "grocery_prices_df.head()"
   ]
  },
  {
   "cell_type": "code",
   "execution_count": 12,
   "id": "ebfed9ec",
   "metadata": {},
   "outputs": [
    {
     "data": {
      "application/vnd.microsoft.datawrangler.viewer.v0+json": {
       "columns": [
        {
         "name": "index",
         "rawType": "int64",
         "type": "integer"
        },
        {
         "name": "observation_date",
         "rawType": "object",
         "type": "string"
        },
        {
         "name": "MRTSSM4451USS",
         "rawType": "int64",
         "type": "integer"
        }
       ],
       "ref": "fe5525ef-7c9b-462d-88df-5dd233858f8d",
       "rows": [
        [
         "0",
         "1992-01-01",
         "27465"
        ],
        [
         "1",
         "1992-02-01",
         "27352"
        ],
        [
         "2",
         "1992-03-01",
         "27338"
        ],
        [
         "3",
         "1992-04-01",
         "27471"
        ],
        [
         "4",
         "1992-05-01",
         "27589"
        ]
       ],
       "shape": {
        "columns": 2,
        "rows": 5
       }
      },
      "text/html": [
       "<div>\n",
       "<style scoped>\n",
       "    .dataframe tbody tr th:only-of-type {\n",
       "        vertical-align: middle;\n",
       "    }\n",
       "\n",
       "    .dataframe tbody tr th {\n",
       "        vertical-align: top;\n",
       "    }\n",
       "\n",
       "    .dataframe thead th {\n",
       "        text-align: right;\n",
       "    }\n",
       "</style>\n",
       "<table border=\"1\" class=\"dataframe\">\n",
       "  <thead>\n",
       "    <tr style=\"text-align: right;\">\n",
       "      <th></th>\n",
       "      <th>observation_date</th>\n",
       "      <th>MRTSSM4451USS</th>\n",
       "    </tr>\n",
       "  </thead>\n",
       "  <tbody>\n",
       "    <tr>\n",
       "      <th>0</th>\n",
       "      <td>1992-01-01</td>\n",
       "      <td>27465</td>\n",
       "    </tr>\n",
       "    <tr>\n",
       "      <th>1</th>\n",
       "      <td>1992-02-01</td>\n",
       "      <td>27352</td>\n",
       "    </tr>\n",
       "    <tr>\n",
       "      <th>2</th>\n",
       "      <td>1992-03-01</td>\n",
       "      <td>27338</td>\n",
       "    </tr>\n",
       "    <tr>\n",
       "      <th>3</th>\n",
       "      <td>1992-04-01</td>\n",
       "      <td>27471</td>\n",
       "    </tr>\n",
       "    <tr>\n",
       "      <th>4</th>\n",
       "      <td>1992-05-01</td>\n",
       "      <td>27589</td>\n",
       "    </tr>\n",
       "  </tbody>\n",
       "</table>\n",
       "</div>"
      ],
      "text/plain": [
       "  observation_date  MRTSSM4451USS\n",
       "0       1992-01-01          27465\n",
       "1       1992-02-01          27352\n",
       "2       1992-03-01          27338\n",
       "3       1992-04-01          27471\n",
       "4       1992-05-01          27589"
      ]
     },
     "execution_count": 12,
     "metadata": {},
     "output_type": "execute_result"
    }
   ],
   "source": [
    "grocery_sale_df.head()  "
   ]
  },
  {
   "cell_type": "code",
   "execution_count": 13,
   "id": "613bd711",
   "metadata": {},
   "outputs": [
    {
     "data": {
      "application/vnd.microsoft.datawrangler.viewer.v0+json": {
       "columns": [
        {
         "name": "index",
         "rawType": "int64",
         "type": "integer"
        },
        {
         "name": "observation_date",
         "rawType": "object",
         "type": "string"
        },
        {
         "name": "UNRATE",
         "rawType": "float64",
         "type": "float"
        }
       ],
       "ref": "43e50b20-5f6c-47f9-9086-7f97856d1f86",
       "rows": [
        [
         "0",
         "1948-01-01",
         "3.4"
        ],
        [
         "1",
         "1948-02-01",
         "3.8"
        ],
        [
         "2",
         "1948-03-01",
         "4.0"
        ],
        [
         "3",
         "1948-04-01",
         "3.9"
        ],
        [
         "4",
         "1948-05-01",
         "3.5"
        ]
       ],
       "shape": {
        "columns": 2,
        "rows": 5
       }
      },
      "text/html": [
       "<div>\n",
       "<style scoped>\n",
       "    .dataframe tbody tr th:only-of-type {\n",
       "        vertical-align: middle;\n",
       "    }\n",
       "\n",
       "    .dataframe tbody tr th {\n",
       "        vertical-align: top;\n",
       "    }\n",
       "\n",
       "    .dataframe thead th {\n",
       "        text-align: right;\n",
       "    }\n",
       "</style>\n",
       "<table border=\"1\" class=\"dataframe\">\n",
       "  <thead>\n",
       "    <tr style=\"text-align: right;\">\n",
       "      <th></th>\n",
       "      <th>observation_date</th>\n",
       "      <th>UNRATE</th>\n",
       "    </tr>\n",
       "  </thead>\n",
       "  <tbody>\n",
       "    <tr>\n",
       "      <th>0</th>\n",
       "      <td>1948-01-01</td>\n",
       "      <td>3.4</td>\n",
       "    </tr>\n",
       "    <tr>\n",
       "      <th>1</th>\n",
       "      <td>1948-02-01</td>\n",
       "      <td>3.8</td>\n",
       "    </tr>\n",
       "    <tr>\n",
       "      <th>2</th>\n",
       "      <td>1948-03-01</td>\n",
       "      <td>4.0</td>\n",
       "    </tr>\n",
       "    <tr>\n",
       "      <th>3</th>\n",
       "      <td>1948-04-01</td>\n",
       "      <td>3.9</td>\n",
       "    </tr>\n",
       "    <tr>\n",
       "      <th>4</th>\n",
       "      <td>1948-05-01</td>\n",
       "      <td>3.5</td>\n",
       "    </tr>\n",
       "  </tbody>\n",
       "</table>\n",
       "</div>"
      ],
      "text/plain": [
       "  observation_date  UNRATE\n",
       "0       1948-01-01     3.4\n",
       "1       1948-02-01     3.8\n",
       "2       1948-03-01     4.0\n",
       "3       1948-04-01     3.9\n",
       "4       1948-05-01     3.5"
      ]
     },
     "execution_count": 13,
     "metadata": {},
     "output_type": "execute_result"
    }
   ],
   "source": [
    "unemployment_df.head()"
   ]
  },
  {
   "cell_type": "code",
   "execution_count": null,
   "id": "3b3eacd5",
   "metadata": {},
   "outputs": [],
   "source": []
  }
 ],
 "metadata": {
  "kernelspec": {
   "display_name": "base",
   "language": "python",
   "name": "python3"
  },
  "language_info": {
   "codemirror_mode": {
    "name": "ipython",
    "version": 3
   },
   "file_extension": ".py",
   "mimetype": "text/x-python",
   "name": "python",
   "nbconvert_exporter": "python",
   "pygments_lexer": "ipython3",
   "version": "3.11.8"
  }
 },
 "nbformat": 4,
 "nbformat_minor": 5
}
