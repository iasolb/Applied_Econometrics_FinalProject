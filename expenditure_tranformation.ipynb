{
 "cells": [
  {
   "cell_type": "code",
   "execution_count": 93,
   "id": "163d9876",
   "metadata": {},
   "outputs": [],
   "source": [
    "import pandas as pd"
   ]
  },
  {
   "cell_type": "code",
   "execution_count": 94,
   "id": "48130a8d",
   "metadata": {},
   "outputs": [],
   "source": [
    "filepath1 = 'data/expend13-20.csv'\n",
    "first = pd.read_csv(filepath1, header=2)"
   ]
  },
  {
   "cell_type": "code",
   "execution_count": 95,
   "id": "c3f2a962",
   "metadata": {},
   "outputs": [],
   "source": [
    "filepath2 = 'data/expend21-23.csv'\n",
    "second = pd.read_csv(filepath2, header=2)"
   ]
  },
  {
   "cell_type": "code",
   "execution_count": null,
   "id": "703aa6e2",
   "metadata": {},
   "outputs": [],
   "source": [
    "example1 = 'Income after taxes*'\n",
    "example2 = 'Income after taxes b/'\n",
    "\n",
    "def clean_string(string):\n",
    "\n",
    "    return string"
   ]
  },
  {
   "cell_type": "code",
   "execution_count": null,
   "id": "00de85f0",
   "metadata": {},
   "outputs": [],
   "source": [
    "def transform_first_df(first):\n",
    "    years = [2013, 2014, 2015, 2016, 2017, 2018, 2019, 2020]\n",
    "    headers = first.T.iloc[0].tolist()\n",
    "    transposed = first.T[1:]\n",
    "    transposed.columns = headers\n",
    "    transposed = transposed.dropna(axis=1, how='all')\n",
    "    transposed.index = years\n",
    "    transposed.index.name = \"Year\"\n",
    "    return transposed\n"
   ]
  },
  {
   "cell_type": "code",
   "execution_count": 101,
   "id": "009dc375",
   "metadata": {},
   "outputs": [],
   "source": [
    "def transform_second_df(second):\n",
    "    years = [2021, 2022, 2023]\n",
    "    headers = second.T.iloc[0].tolist()\n",
    "    transposed = second.T[1:]\n",
    "    transposed.columns = headers\n",
    "    transposed = transposed.dropna(axis=1, how='all')\n",
    "    transposed.index = years\n",
    "    transposed.index.name = \"Year\"\n",
    "    return transposed"
   ]
  },
  {
   "cell_type": "code",
   "execution_count": 102,
   "id": "2e0a75cb",
   "metadata": {},
   "outputs": [
    {
     "data": {
      "application/vnd.microsoft.datawrangler.viewer.v0+json": {
       "columns": [
        {
         "name": "Year",
         "rawType": "int64",
         "type": "integer"
        },
        {
         "name": "Number of consumer units (in thousands) a/ ",
         "rawType": "object",
         "type": "string"
        },
        {
         "name": "Income before taxes",
         "rawType": "object",
         "type": "string"
        },
        {
         "name": "Income after taxes*",
         "rawType": "object",
         "type": "string"
        },
        {
         "name": "Age of reference person",
         "rawType": "object",
         "type": "string"
        },
        {
         "name": "People",
         "rawType": "object",
         "type": "string"
        },
        {
         "name": "Children under 18",
         "rawType": "object",
         "type": "string"
        },
        {
         "name": "Adults 65 and older",
         "rawType": "object",
         "type": "string"
        },
        {
         "name": "Earners",
         "rawType": "object",
         "type": "string"
        },
        {
         "name": "Vehicles",
         "rawType": "object",
         "type": "string"
        },
        {
         "name": "Men",
         "rawType": "object",
         "type": "string"
        },
        {
         "name": "Women",
         "rawType": "object",
         "type": "string"
        },
        {
         "name": "Homeowner",
         "rawType": "object",
         "type": "string"
        },
        {
         "name": "With mortgage",
         "rawType": "object",
         "type": "string"
        },
        {
         "name": "Without mortgage",
         "rawType": "object",
         "type": "string"
        },
        {
         "name": "Renter",
         "rawType": "object",
         "type": "string"
        },
        {
         "name": "Black or African-American",
         "rawType": "object",
         "type": "string"
        },
        {
         "name": "White, Asian, and all other races",
         "rawType": "object",
         "type": "string"
        },
        {
         "name": "Hispanic or Latino",
         "rawType": "object",
         "type": "string"
        },
        {
         "name": "Not Hispanic or Latino",
         "rawType": "object",
         "type": "string"
        },
        {
         "name": "Elementary (1-8)",
         "rawType": "object",
         "type": "string"
        },
        {
         "name": "High school (9-12)",
         "rawType": "object",
         "type": "string"
        },
        {
         "name": "College",
         "rawType": "object",
         "type": "string"
        },
        {
         "name": "Never attended and other",
         "rawType": "object",
         "type": "string"
        },
        {
         "name": "At least one vehicle owned or leased",
         "rawType": "object",
         "type": "string"
        },
        {
         "name": "Average annual expenditures",
         "rawType": "object",
         "type": "string"
        },
        {
         "name": "Food",
         "rawType": "object",
         "type": "string"
        },
        {
         "name": "Food at home",
         "rawType": "object",
         "type": "string"
        },
        {
         "name": "Cereals and bakery products",
         "rawType": "object",
         "type": "string"
        },
        {
         "name": "Cereals and cereal products",
         "rawType": "object",
         "type": "string"
        },
        {
         "name": "Bakery products",
         "rawType": "object",
         "type": "string"
        },
        {
         "name": "Meats, poultry, fish, and eggs",
         "rawType": "object",
         "type": "string"
        },
        {
         "name": "Beef",
         "rawType": "object",
         "type": "string"
        },
        {
         "name": "Pork",
         "rawType": "object",
         "type": "string"
        },
        {
         "name": "Other meats",
         "rawType": "object",
         "type": "string"
        },
        {
         "name": "Poultry",
         "rawType": "object",
         "type": "string"
        },
        {
         "name": "Fish and seafood",
         "rawType": "object",
         "type": "string"
        },
        {
         "name": "Eggs",
         "rawType": "object",
         "type": "string"
        },
        {
         "name": "Dairy products",
         "rawType": "object",
         "type": "string"
        },
        {
         "name": "Fresh milk and cream",
         "rawType": "object",
         "type": "string"
        },
        {
         "name": "Other dairy products",
         "rawType": "object",
         "type": "string"
        },
        {
         "name": "Fruits and vegetables",
         "rawType": "object",
         "type": "string"
        },
        {
         "name": "Fresh fruits",
         "rawType": "object",
         "type": "string"
        },
        {
         "name": "Fresh vegetables",
         "rawType": "object",
         "type": "string"
        },
        {
         "name": "Processed fruits",
         "rawType": "object",
         "type": "string"
        },
        {
         "name": "Processed vegetables",
         "rawType": "object",
         "type": "string"
        },
        {
         "name": "Other food at home",
         "rawType": "object",
         "type": "string"
        },
        {
         "name": "Sugar and other sweets",
         "rawType": "object",
         "type": "string"
        },
        {
         "name": "Fats and oils",
         "rawType": "object",
         "type": "string"
        },
        {
         "name": "Miscellaneous foods",
         "rawType": "object",
         "type": "string"
        },
        {
         "name": "Nonalcoholic beverages",
         "rawType": "object",
         "type": "string"
        },
        {
         "name": "Food prepared by consumer unit on out-of-town trips",
         "rawType": "object",
         "type": "string"
        },
        {
         "name": "Food away from home",
         "rawType": "object",
         "type": "string"
        },
        {
         "name": "Alcoholic beverages",
         "rawType": "object",
         "type": "string"
        },
        {
         "name": "Housing",
         "rawType": "object",
         "type": "string"
        },
        {
         "name": "Shelter",
         "rawType": "object",
         "type": "string"
        },
        {
         "name": "Owned dwellings",
         "rawType": "object",
         "type": "string"
        },
        {
         "name": "Mortgage interest and charges",
         "rawType": "object",
         "type": "string"
        },
        {
         "name": "Property taxes",
         "rawType": "object",
         "type": "string"
        },
        {
         "name": "Maintenance, repairs, insurance, other expenses",
         "rawType": "object",
         "type": "string"
        },
        {
         "name": "Rented dwellings",
         "rawType": "object",
         "type": "string"
        },
        {
         "name": "Other lodging",
         "rawType": "object",
         "type": "string"
        },
        {
         "name": "Utilities, fuels, and public services",
         "rawType": "object",
         "type": "string"
        },
        {
         "name": "Natural gas",
         "rawType": "object",
         "type": "string"
        },
        {
         "name": "Electricity",
         "rawType": "object",
         "type": "string"
        },
        {
         "name": "Fuel oil and other fuels",
         "rawType": "object",
         "type": "string"
        },
        {
         "name": "Telephone services",
         "rawType": "object",
         "type": "string"
        },
        {
         "name": "Residential phone service, VOIP, and phone cards",
         "rawType": "object",
         "type": "string"
        },
        {
         "name": "Cellular phone service",
         "rawType": "object",
         "type": "string"
        },
        {
         "name": "Water and other public services",
         "rawType": "object",
         "type": "string"
        },
        {
         "name": "Household operations",
         "rawType": "object",
         "type": "string"
        },
        {
         "name": "Personal services",
         "rawType": "object",
         "type": "string"
        },
        {
         "name": "Other household expenses",
         "rawType": "object",
         "type": "string"
        },
        {
         "name": "Housekeeping supplies",
         "rawType": "object",
         "type": "string"
        },
        {
         "name": "Laundry and cleaning supplies",
         "rawType": "object",
         "type": "string"
        },
        {
         "name": "Other household products",
         "rawType": "object",
         "type": "string"
        },
        {
         "name": "Postage and stationery",
         "rawType": "object",
         "type": "string"
        },
        {
         "name": "Household furnishings and equipment",
         "rawType": "object",
         "type": "string"
        },
        {
         "name": "Household textiles",
         "rawType": "object",
         "type": "string"
        },
        {
         "name": "Furniture",
         "rawType": "object",
         "type": "string"
        },
        {
         "name": "Floor coverings",
         "rawType": "object",
         "type": "string"
        },
        {
         "name": "Major appliances",
         "rawType": "object",
         "type": "string"
        },
        {
         "name": "Small appliances, miscellaneous housewares",
         "rawType": "object",
         "type": "string"
        },
        {
         "name": "Miscellaneous household equipment",
         "rawType": "object",
         "type": "string"
        },
        {
         "name": "Apparel and services",
         "rawType": "object",
         "type": "string"
        },
        {
         "name": "Men and boys",
         "rawType": "object",
         "type": "string"
        },
        {
         "name": "Men, 16 and over",
         "rawType": "object",
         "type": "string"
        },
        {
         "name": "Boys, 2 to 15",
         "rawType": "object",
         "type": "string"
        },
        {
         "name": "Women and girls",
         "rawType": "object",
         "type": "string"
        },
        {
         "name": "Women, 16 and over",
         "rawType": "object",
         "type": "string"
        },
        {
         "name": "Girls, 2 to 15",
         "rawType": "object",
         "type": "string"
        },
        {
         "name": "Children under 2",
         "rawType": "object",
         "type": "string"
        },
        {
         "name": "Footwear",
         "rawType": "object",
         "type": "string"
        },
        {
         "name": "Other apparel products and services",
         "rawType": "object",
         "type": "string"
        },
        {
         "name": "Transportation",
         "rawType": "object",
         "type": "string"
        },
        {
         "name": "Vehicle purchases (net outlay)",
         "rawType": "object",
         "type": "string"
        },
        {
         "name": "Cars and trucks, new",
         "rawType": "object",
         "type": "string"
        },
        {
         "name": "Cars and trucks, used",
         "rawType": "object",
         "type": "string"
        },
        {
         "name": "Other vehicles",
         "rawType": "object",
         "type": "string"
        },
        {
         "name": "Gasoline, other fuels, and motor oil",
         "rawType": "object",
         "type": "string"
        },
        {
         "name": "Other vehicle expenses",
         "rawType": "object",
         "type": "string"
        },
        {
         "name": "Vehicle finance charges",
         "rawType": "object",
         "type": "string"
        },
        {
         "name": "Maintenance and repairs",
         "rawType": "object",
         "type": "string"
        },
        {
         "name": "Vehicle rental, leases, licenses, and other charges",
         "rawType": "object",
         "type": "string"
        },
        {
         "name": "Vehicle insurance",
         "rawType": "object",
         "type": "string"
        },
        {
         "name": "Public and other transportation",
         "rawType": "object",
         "type": "string"
        },
        {
         "name": "Healthcare",
         "rawType": "object",
         "type": "string"
        },
        {
         "name": "Health insurance**",
         "rawType": "object",
         "type": "string"
        },
        {
         "name": "Medical services",
         "rawType": "object",
         "type": "string"
        },
        {
         "name": "Drugs",
         "rawType": "object",
         "type": "string"
        },
        {
         "name": "Medical supplies",
         "rawType": "object",
         "type": "string"
        },
        {
         "name": "Entertainment",
         "rawType": "object",
         "type": "string"
        },
        {
         "name": "Fees and admissions",
         "rawType": "object",
         "type": "string"
        },
        {
         "name": "Audio and visual equipment and services",
         "rawType": "object",
         "type": "string"
        },
        {
         "name": "Pets, toys, hobbies, and playground equipment",
         "rawType": "object",
         "type": "string"
        },
        {
         "name": "Pets",
         "rawType": "object",
         "type": "string"
        },
        {
         "name": "Toys, hobbies, and playground equipment",
         "rawType": "object",
         "type": "string"
        },
        {
         "name": "Other entertainment supplies, equipment, and services",
         "rawType": "object",
         "type": "string"
        },
        {
         "name": "Personal care products and services",
         "rawType": "object",
         "type": "string"
        },
        {
         "name": "Reading",
         "rawType": "object",
         "type": "string"
        },
        {
         "name": "Education***",
         "rawType": "object",
         "type": "string"
        },
        {
         "name": "Tobacco products and smoking supplies",
         "rawType": "object",
         "type": "string"
        },
        {
         "name": "Miscellaneous***",
         "rawType": "object",
         "type": "string"
        },
        {
         "name": "Cash contributions",
         "rawType": "object",
         "type": "string"
        },
        {
         "name": "Personal insurance and pensions",
         "rawType": "object",
         "type": "string"
        },
        {
         "name": "Life and other personal insurance",
         "rawType": "object",
         "type": "string"
        },
        {
         "name": "Pensions and Social Security",
         "rawType": "object",
         "type": "string"
        },
        {
         "name": "Income before taxes",
         "rawType": "object",
         "type": "string"
        },
        {
         "name": "Wages and salaries",
         "rawType": "object",
         "type": "string"
        },
        {
         "name": "Self-employment income",
         "rawType": "object",
         "type": "string"
        },
        {
         "name": "Social Security, private and government retirement",
         "rawType": "object",
         "type": "string"
        },
        {
         "name": "Interest, dividends, rental income, other property income",
         "rawType": "object",
         "type": "string"
        },
        {
         "name": "Public assistance, Supplemental Security Income, Supplementary Nutrition Assistance Program (SNAP)",
         "rawType": "object",
         "type": "string"
        },
        {
         "name": "Unemployment and workers' compensation, veterans' benefits, and regular contributions for support",
         "rawType": "object",
         "type": "string"
        },
        {
         "name": "Other income",
         "rawType": "object",
         "type": "string"
        },
        {
         "name": "Personal taxes (contains some imputed values)*",
         "rawType": "object",
         "type": "string"
        },
        {
         "name": "Federal income taxes",
         "rawType": "object",
         "type": "string"
        },
        {
         "name": "Stimulus payment (new UCC Q20202)#",
         "rawType": "object",
         "type": "string"
        },
        {
         "name": "State and local income taxes",
         "rawType": "object",
         "type": "string"
        },
        {
         "name": "Other taxes",
         "rawType": "object",
         "type": "string"
        },
        {
         "name": "Income after taxes*",
         "rawType": "object",
         "type": "string"
        },
        {
         "name": "Net change in total assets and liabilities",
         "rawType": "object",
         "type": "string"
        },
        {
         "name": "Net change in total assets",
         "rawType": "object",
         "type": "string"
        },
        {
         "name": "Net change in total liabilities",
         "rawType": "object",
         "type": "string"
        },
        {
         "name": "Other money receipts",
         "rawType": "object",
         "type": "string"
        },
        {
         "name": "Mortgage principal paid on owned property",
         "rawType": "object",
         "type": "string"
        },
        {
         "name": "Estimated market value of owned home",
         "rawType": "object",
         "type": "string"
        },
        {
         "name": "Estimated monthly rental value of owned home",
         "rawType": "object",
         "type": "string"
        },
        {
         "name": "Gifts of good and services, total (thru 2019)",
         "rawType": "object",
         "type": "string"
        },
        {
         "name": "Food",
         "rawType": "object",
         "type": "string"
        },
        {
         "name": "Alcoholic beverages",
         "rawType": "object",
         "type": "string"
        },
        {
         "name": "Housing",
         "rawType": "object",
         "type": "string"
        },
        {
         "name": "Housekeeping supplies",
         "rawType": "object",
         "type": "string"
        },
        {
         "name": "Household textiles",
         "rawType": "object",
         "type": "string"
        },
        {
         "name": "Appliances and miscellaneous housewares",
         "rawType": "object",
         "type": "string"
        },
        {
         "name": "Major appliances",
         "rawType": "object",
         "type": "string"
        },
        {
         "name": "Small appliances and miscellaneous housewares",
         "rawType": "object",
         "type": "string"
        },
        {
         "name": "Miscellaneous household equipment",
         "rawType": "object",
         "type": "string"
        },
        {
         "name": "Other housing",
         "rawType": "object",
         "type": "string"
        },
        {
         "name": "Apparel and services",
         "rawType": "object",
         "type": "string"
        },
        {
         "name": "Males, 2 and over",
         "rawType": "object",
         "type": "string"
        },
        {
         "name": "Females, 2 and over",
         "rawType": "object",
         "type": "string"
        },
        {
         "name": "Children under 2",
         "rawType": "object",
         "type": "string"
        },
        {
         "name": "Other apparel products and services",
         "rawType": "object",
         "type": "string"
        },
        {
         "name": "Jewelry and watches",
         "rawType": "object",
         "type": "string"
        },
        {
         "name": "All other apparel products and services",
         "rawType": "object",
         "type": "string"
        },
        {
         "name": "Transportation",
         "rawType": "object",
         "type": "string"
        },
        {
         "name": "Healthcare",
         "rawType": "object",
         "type": "string"
        },
        {
         "name": "Entertainment",
         "rawType": "object",
         "type": "string"
        },
        {
         "name": "Toys, games, arts and crafts, and tricycles",
         "rawType": "object",
         "type": "string"
        },
        {
         "name": "Other entertainment",
         "rawType": "object",
         "type": "string"
        },
        {
         "name": "Personal care products and services",
         "rawType": "object",
         "type": "string"
        },
        {
         "name": "Reading",
         "rawType": "object",
         "type": "string"
        },
        {
         "name": "Education",
         "rawType": "object",
         "type": "string"
        },
        {
         "name": "All other gifts",
         "rawType": "object",
         "type": "string"
        }
       ],
       "ref": "9087e1c6-1815-4a55-a64c-d98acc2d2038",
       "rows": [
        [
         "2013",
         "125,670",
         "$63,784",
         "56,352",
         "50.1",
         "2.5",
         ".6",
         ".3",
         "1.3",
         "1.9",
         "47",
         "53",
         "64",
         "37",
         "26",
         "36",
         "13",
         "87",
         "13",
         "87",
         "7",
         "30",
         "63",
         "b/",
         "87",
         "$51,100",
         "6,602",
         "3,977",
         "544",
         "185",
         "359",
         "856",
         "219",
         "170",
         "119",
         "170",
         "122",
         "56",
         "414",
         "152",
         "262",
         "751",
         "270",
         "236",
         "115",
         "130",
         "1,412",
         "143",
         "117",
         "728",
         "384",
         "42",
         "2,625",
         "445",
         "17,148",
         "10,080",
         "6,108",
         "3,078",
         "1,848",
         "1,182",
         "3,324",
         "649",
         "3,737",
         "393",
         "1,422",
         "142",
         "1,271",
         "358",
         "913",
         "509",
         "1,144",
         "368",
         "776",
         "645",
         "154",
         "350",
         "140",
         "1,542",
         "97",
         "382",
         "20",
         "214",
         "100",
         "727",
         "1,604",
         "374",
         "304",
         "70",
         "636",
         "527",
         "109",
         "75",
         "307",
         "211",
         "9,004",
         "3,271",
         "1,563",
         "1,669",
         "39",
         "2,611",
         "2,584",
         "204",
         "835",
         "533",
         "1,013",
         "537",
         "3,631",
         "2,229",
         "796",
         "470",
         "135",
         "2,482",
         "569",
         "964",
         "596",
         "460",
         "136",
         "353",
         "608",
         "102",
         "1,138",
         "330",
         "645",
         "1,834",
         "5,528",
         "319",
         "5,209",
         "$63,784",
         "50,168",
         "3,273",
         "7,514",
         "1,411",
         "534",
         "612",
         "272",
         "7,432",
         "5,743",
         "n.a.",
         "1,629",
         "60",
         "56,352",
         "$11,404",
         "20,539",
         "9,136",
         "737",
         "-1,858",
         "154,907",
         "882",
         "1,078",
         "78",
         "12",
         "201",
         "26",
         "5",
         "19",
         "5",
         "14",
         "41",
         "112",
         "198",
         "51",
         "76",
         "30",
         "42",
         "14",
         "28",
         "100",
         "35",
         "89",
         "27",
         "62",
         "14",
         "5",
         "274",
         "72"
        ],
        [
         "2014",
         "127,006",
         "$66,877",
         "58,364",
         "50.3",
         "2.5",
         ".6",
         ".4",
         "1.3",
         "1.9",
         "48",
         "52",
         "63",
         "37",
         "26",
         "37",
         "13",
         "87",
         "13",
         "87",
         "3",
         "33",
         "63",
         "b/",
         "87",
         "$53,495",
         "6,759",
         "3,971",
         "519",
         "176",
         "343",
         "892",
         "232",
         "177",
         "123",
         "172",
         "129",
         "58",
         "423",
         "147",
         "276",
         "756",
         "274",
         "240",
         "109",
         "133",
         "1,382",
         "139",
         "115",
         "702",
         "375",
         "51",
         "2,787",
         "463",
         "17,798",
         "10,491",
         "6,149",
         "2,953",
         "1,903",
         "1,293",
         "3,631",
         "710",
         "3,921",
         "439",
         "1,484",
         "152",
         "1,315",
         "353",
         "963",
         "530",
         "1,174",
         "366",
         "808",
         "632",
         "148",
         "354",
         "131",
         "1,581",
         "96",
         "387",
         "18",
         "233",
         "106",
         "740",
         "1,786",
         "430",
         "326",
         "104",
         "656",
         "551",
         "105",
         "76",
         "367",
         "256",
         "9,073",
         "3,301",
         "1,562",
         "1,689",
         "50",
         "2,468",
         "2,723",
         "208",
         "836",
         "567",
         "1,112",
         "581",
         "4,290",
         "2,868",
         "790",
         "486",
         "146",
         "2,728",
         "636",
         "1,051",
         "634",
         "507",
         "127",
         "407",
         "645",
         "103",
         "1,236",
         "319",
         "782",
         "1,788",
         "5,726",
         "327",
         "5,399",
         "$66,877",
         "51,889",
         "4,284",
         "7,700",
         "1,594",
         "530",
         "556",
         "323",
         "8,513",
         "6,680",
         "n.a.",
         "1,782",
         "52",
         "58,364",
         "$7,431",
         "15,798",
         "8,366",
         "659",
         "-1,816",
         "160,814",
         "908",
         "1,063",
         "75",
         "14",
         "222",
         "23",
         "9",
         "22",
         "8",
         "14",
         "42",
         "127",
         "201",
         "50",
         "69",
         "31",
         "52",
         "16",
         "36",
         "108",
         "35",
         "89",
         "28",
         "61",
         "13",
         "4",
         "236",
         "65"
        ],
        [
         "2015",
         "128,437",
         "$69,627",
         "60,448",
         "50.5",
         "2.5",
         ".6",
         ".4",
         "1.3",
         "1.9",
         "47",
         "53",
         "62",
         "35",
         "27",
         "38",
         "13",
         "87",
         "13",
         "87",
         "3",
         "32",
         "64",
         "b/",
         "87",
         "$55,978",
         "7,023",
         "4,015",
         "518",
         "172",
         "346",
         "896",
         "245",
         "165",
         "124",
         "172",
         "126",
         "63",
         "413",
         "140",
         "273",
         "769",
         "284",
         "247",
         "108",
         "130",
         "1,419",
         "155",
         "111",
         "726",
         "374",
         "52",
         "3,008",
         "515",
         "18,409",
         "10,742",
         "6,210",
         "2,859",
         "1,913",
         "1,438",
         "3,802",
         "730",
         "3,885",
         "421",
         "1,460",
         "116",
         "1,347",
         "324",
         "1,023",
         "540",
         "1,309",
         "427",
         "882",
         "655",
         "156",
         "368",
         "131",
         "1,818",
         "115",
         "502",
         "18",
         "268",
         "118",
         "798",
         "1,846",
         "422",
         "331",
         "91",
         "697",
         "596",
         "101",
         "83",
         "354",
         "291",
         "9,503",
         "3,997",
         "1,956",
         "1,982",
         "59",
         "2,090",
         "2,756",
         "216",
         "837",
         "624",
         "1,079",
         "661",
         "4,342",
         "2,977",
         "791",
         "425",
         "149",
         "2,842",
         "652",
         "1,084",
         "653",
         "528",
         "125",
         "453",
         "683",
         "114",
         "1,315",
         "349",
         "871",
         "1,819",
         "6,349",
         "333",
         "6,016",
         "$69,627",
         "54,405",
         "4,363",
         "7,801",
         "1,737",
         "568",
         "432",
         "320",
         "9,178",
         "7,111",
         "n.a.",
         "1,997",
         "70",
         "60,448",
         "$6,937",
         "15,442",
         "8,504",
         "766",
         "-1,757",
         "162,749",
         "930",
         "1,249",
         "91",
         "15",
         "244",
         "30",
         "8",
         "22",
         "8",
         "14",
         "48",
         "137",
         "253",
         "59",
         "64",
         "40",
         "90",
         "60",
         "30",
         "139",
         "34",
         "95",
         "29",
         "66",
         "16",
         "6",
         "278",
         "77"
        ],
        [
         "2016",
         "129,549",
         "$74,664",
         "64,175",
         "50.9",
         "2.5",
         ".6",
         ".4",
         "1.3",
         "1.9",
         "47",
         "53",
         "62",
         "36",
         "27",
         "38",
         "13",
         "87",
         "13",
         "87",
         "3",
         "32",
         "65",
         "b/",
         "87",
         "$57,311",
         "7,203",
         "4,049",
         "524",
         "172",
         "353",
         "890",
         "244",
         "169",
         "120",
         "172",
         "130",
         "56",
         "410",
         "139",
         "271",
         "783",
         "288",
         "254",
         "109",
         "133",
         "1,442",
         "148",
         "111",
         "734",
         "393",
         "55",
         "3,154",
         "484",
         "18,886",
         "11,128",
         "6,295",
         "2,889",
         "1,969",
         "1,437",
         "4,035",
         "798",
         "3,884",
         "355",
         "1,444",
         "85",
         "1,431",
         "307",
         "1,124",
         "569",
         "1,384",
         "457",
         "927",
         "660",
         "160",
         "363",
         "137",
         "1,829",
         "98",
         "460",
         "20",
         "283",
         "123",
         "845",
         "1,803",
         "427",
         "323",
         "104",
         "665",
         "571",
         "94",
         "66",
         "388",
         "257",
         "9,049",
         "3,634",
         "1,650",
         "1,919",
         "66",
         "1,909",
         "2,884",
         "226",
         "849",
         "660",
         "1,149",
         "623",
         "4,612",
         "3,160",
         "838",
         "463",
         "151",
         "2,913",
         "681",
         "1,085",
         "740",
         "583",
         "157",
         "406",
         "707",
         "118",
         "1,329",
         "337",
         "959",
         "2,081",
         "6,831",
         "322",
         "6,509",
         "$74,664",
         "57,319",
         "6,270",
         "8,001",
         "1,751",
         "519",
         "444",
         "360",
         "10,489",
         "8,367",
         "n.a.",
         "2,046",
         "75",
         "64,175",
         "$8,721",
         "15,570",
         "6,848",
         "718",
         "-1,908",
         "172,263",
         "971",
         "1,125",
         "74",
         "13",
         "238",
         "26",
         "10",
         "21",
         "9",
         "13",
         "43",
         "138",
         "190",
         "51",
         "63",
         "27",
         "50",
         "14",
         "36",
         "101",
         "28",
         "95",
         "43",
         "52",
         "13",
         "4",
         "276",
         "92"
        ],
        [
         "2017",
         "130,001",
         "$73,573",
         "63,606",
         "50.9",
         "2.5",
         ".6",
         ".4",
         "1.3",
         "1.9",
         "47",
         "53",
         "63",
         "36",
         "27",
         "37",
         "13",
         "87",
         "14",
         "86",
         "3",
         "30",
         "67",
         "b/",
         "88",
         "$60,060",
         "7,729",
         "4,363",
         "564",
         "176",
         "388",
         "944",
         "253",
         "181",
         "128",
         "186",
         "140",
         "55",
         "450",
         "147",
         "303",
         "837",
         "314",
         "274",
         "112",
         "136",
         "1,568",
         "150",
         "117",
         "824",
         "423",
         "56",
         "3,365",
         "558",
         "19,884",
         "11,895",
         "6,947",
         "3,265",
         "2,065",
         "1,616",
         "4,167",
         "782",
         "3,836",
         "381",
         "1,420",
         "97",
         "1,356",
         "238",
         "1,118",
         "583",
         "1,412",
         "439",
         "973",
         "755",
         "177",
         "428",
         "150",
         "1,987",
         "114",
         "515",
         "30",
         "280",
         "131",
         "916",
         "1,833",
         "442",
         "342",
         "100",
         "694",
         "580",
         "114",
         "77",
         "379",
         "241",
         "9,576",
         "4,054",
         "1,900",
         "2,101",
         "53",
         "1,968",
         "2,842",
         "220",
         "954",
         "700",
         "967",
         "712",
         "4,928",
         "3,414",
         "872",
         "486",
         "156",
         "3,203",
         "750",
         "985",
         "869",
         "710",
         "159",
         "599",
         "762",
         "110",
         "1,491",
         "332",
         "1,010",
         "1,873",
         "6,771",
         "418",
         "6,353",
         "$73,573",
         "57,590",
         "4,506",
         "8,300",
         "1,910",
         "460",
         "457",
         "351",
         "9,967",
         "7,819",
         "n.a.",
         "2,098",
         "51",
         "63,606",
         "$14,049",
         "23,805",
         "9,756",
         "1,156",
         "-1,839",
         "186,064",
         "1,017",
         "1,229",
         "88",
         "14",
         "233",
         "33",
         "7",
         "20",
         "7",
         "13",
         "53",
         "120",
         "203",
         "56",
         "73",
         "32",
         "43",
         "9",
         "34",
         "141",
         "21",
         "98",
         "39",
         "59",
         "12",
         "3",
         "314",
         "102"
        ]
       ],
       "shape": {
        "columns": 174,
        "rows": 5
       }
      },
      "text/html": [
       "<div>\n",
       "<style scoped>\n",
       "    .dataframe tbody tr th:only-of-type {\n",
       "        vertical-align: middle;\n",
       "    }\n",
       "\n",
       "    .dataframe tbody tr th {\n",
       "        vertical-align: top;\n",
       "    }\n",
       "\n",
       "    .dataframe thead th {\n",
       "        text-align: right;\n",
       "    }\n",
       "</style>\n",
       "<table border=\"1\" class=\"dataframe\">\n",
       "  <thead>\n",
       "    <tr style=\"text-align: right;\">\n",
       "      <th></th>\n",
       "      <th>Number of consumer units (in thousands) a/</th>\n",
       "      <th>Income before taxes</th>\n",
       "      <th>Income after taxes*</th>\n",
       "      <th>Age of reference person</th>\n",
       "      <th>People</th>\n",
       "      <th>Children under 18</th>\n",
       "      <th>Adults 65 and older</th>\n",
       "      <th>Earners</th>\n",
       "      <th>Vehicles</th>\n",
       "      <th>Men</th>\n",
       "      <th>...</th>\n",
       "      <th>All other apparel products and services</th>\n",
       "      <th>Transportation</th>\n",
       "      <th>Healthcare</th>\n",
       "      <th>Entertainment</th>\n",
       "      <th>Toys, games, arts and crafts, and tricycles</th>\n",
       "      <th>Other entertainment</th>\n",
       "      <th>Personal care products and services</th>\n",
       "      <th>Reading</th>\n",
       "      <th>Education</th>\n",
       "      <th>All other gifts</th>\n",
       "    </tr>\n",
       "    <tr>\n",
       "      <th>Year</th>\n",
       "      <th></th>\n",
       "      <th></th>\n",
       "      <th></th>\n",
       "      <th></th>\n",
       "      <th></th>\n",
       "      <th></th>\n",
       "      <th></th>\n",
       "      <th></th>\n",
       "      <th></th>\n",
       "      <th></th>\n",
       "      <th></th>\n",
       "      <th></th>\n",
       "      <th></th>\n",
       "      <th></th>\n",
       "      <th></th>\n",
       "      <th></th>\n",
       "      <th></th>\n",
       "      <th></th>\n",
       "      <th></th>\n",
       "      <th></th>\n",
       "      <th></th>\n",
       "    </tr>\n",
       "  </thead>\n",
       "  <tbody>\n",
       "    <tr>\n",
       "      <th>2013</th>\n",
       "      <td>125,670</td>\n",
       "      <td>$63,784</td>\n",
       "      <td>56,352</td>\n",
       "      <td>50.1</td>\n",
       "      <td>2.5</td>\n",
       "      <td>.6</td>\n",
       "      <td>.3</td>\n",
       "      <td>1.3</td>\n",
       "      <td>1.9</td>\n",
       "      <td>47</td>\n",
       "      <td>...</td>\n",
       "      <td>28</td>\n",
       "      <td>100</td>\n",
       "      <td>35</td>\n",
       "      <td>89</td>\n",
       "      <td>27</td>\n",
       "      <td>62</td>\n",
       "      <td>14</td>\n",
       "      <td>5</td>\n",
       "      <td>274</td>\n",
       "      <td>72</td>\n",
       "    </tr>\n",
       "    <tr>\n",
       "      <th>2014</th>\n",
       "      <td>127,006</td>\n",
       "      <td>$66,877</td>\n",
       "      <td>58,364</td>\n",
       "      <td>50.3</td>\n",
       "      <td>2.5</td>\n",
       "      <td>.6</td>\n",
       "      <td>.4</td>\n",
       "      <td>1.3</td>\n",
       "      <td>1.9</td>\n",
       "      <td>48</td>\n",
       "      <td>...</td>\n",
       "      <td>36</td>\n",
       "      <td>108</td>\n",
       "      <td>35</td>\n",
       "      <td>89</td>\n",
       "      <td>28</td>\n",
       "      <td>61</td>\n",
       "      <td>13</td>\n",
       "      <td>4</td>\n",
       "      <td>236</td>\n",
       "      <td>65</td>\n",
       "    </tr>\n",
       "    <tr>\n",
       "      <th>2015</th>\n",
       "      <td>128,437</td>\n",
       "      <td>$69,627</td>\n",
       "      <td>60,448</td>\n",
       "      <td>50.5</td>\n",
       "      <td>2.5</td>\n",
       "      <td>.6</td>\n",
       "      <td>.4</td>\n",
       "      <td>1.3</td>\n",
       "      <td>1.9</td>\n",
       "      <td>47</td>\n",
       "      <td>...</td>\n",
       "      <td>30</td>\n",
       "      <td>139</td>\n",
       "      <td>34</td>\n",
       "      <td>95</td>\n",
       "      <td>29</td>\n",
       "      <td>66</td>\n",
       "      <td>16</td>\n",
       "      <td>6</td>\n",
       "      <td>278</td>\n",
       "      <td>77</td>\n",
       "    </tr>\n",
       "    <tr>\n",
       "      <th>2016</th>\n",
       "      <td>129,549</td>\n",
       "      <td>$74,664</td>\n",
       "      <td>64,175</td>\n",
       "      <td>50.9</td>\n",
       "      <td>2.5</td>\n",
       "      <td>.6</td>\n",
       "      <td>.4</td>\n",
       "      <td>1.3</td>\n",
       "      <td>1.9</td>\n",
       "      <td>47</td>\n",
       "      <td>...</td>\n",
       "      <td>36</td>\n",
       "      <td>101</td>\n",
       "      <td>28</td>\n",
       "      <td>95</td>\n",
       "      <td>43</td>\n",
       "      <td>52</td>\n",
       "      <td>13</td>\n",
       "      <td>4</td>\n",
       "      <td>276</td>\n",
       "      <td>92</td>\n",
       "    </tr>\n",
       "    <tr>\n",
       "      <th>2017</th>\n",
       "      <td>130,001</td>\n",
       "      <td>$73,573</td>\n",
       "      <td>63,606</td>\n",
       "      <td>50.9</td>\n",
       "      <td>2.5</td>\n",
       "      <td>.6</td>\n",
       "      <td>.4</td>\n",
       "      <td>1.3</td>\n",
       "      <td>1.9</td>\n",
       "      <td>47</td>\n",
       "      <td>...</td>\n",
       "      <td>34</td>\n",
       "      <td>141</td>\n",
       "      <td>21</td>\n",
       "      <td>98</td>\n",
       "      <td>39</td>\n",
       "      <td>59</td>\n",
       "      <td>12</td>\n",
       "      <td>3</td>\n",
       "      <td>314</td>\n",
       "      <td>102</td>\n",
       "    </tr>\n",
       "  </tbody>\n",
       "</table>\n",
       "<p>5 rows × 174 columns</p>\n",
       "</div>"
      ],
      "text/plain": [
       "     Number of consumer units (in thousands) a/  Income before taxes  \\\n",
       "Year                                                                   \n",
       "2013                                     125,670             $63,784   \n",
       "2014                                     127,006             $66,877   \n",
       "2015                                     128,437             $69,627   \n",
       "2016                                     129,549             $74,664   \n",
       "2017                                     130,001             $73,573   \n",
       "\n",
       "     Income after taxes* Age of reference person People Children under 18  \\\n",
       "Year                                                                        \n",
       "2013              56,352                    50.1    2.5                .6   \n",
       "2014              58,364                    50.3    2.5                .6   \n",
       "2015              60,448                    50.5    2.5                .6   \n",
       "2016              64,175                    50.9    2.5                .6   \n",
       "2017              63,606                    50.9    2.5                .6   \n",
       "\n",
       "     Adults 65 and older Earners Vehicles Men  ...  \\\n",
       "Year                                           ...   \n",
       "2013                  .3     1.3      1.9  47  ...   \n",
       "2014                  .4     1.3      1.9  48  ...   \n",
       "2015                  .4     1.3      1.9  47  ...   \n",
       "2016                  .4     1.3      1.9  47  ...   \n",
       "2017                  .4     1.3      1.9  47  ...   \n",
       "\n",
       "     All other apparel products and services Transportation Healthcare  \\\n",
       "Year                                                                     \n",
       "2013                                      28            100         35   \n",
       "2014                                      36            108         35   \n",
       "2015                                      30            139         34   \n",
       "2016                                      36            101         28   \n",
       "2017                                      34            141         21   \n",
       "\n",
       "     Entertainment Toys, games, arts and crafts, and tricycles  \\\n",
       "Year                                                             \n",
       "2013            89                                          27   \n",
       "2014            89                                          28   \n",
       "2015            95                                          29   \n",
       "2016            95                                          43   \n",
       "2017            98                                          39   \n",
       "\n",
       "     Other entertainment Personal care products and services Reading  \\\n",
       "Year                                                                   \n",
       "2013                  62                                  14       5   \n",
       "2014                  61                                  13       4   \n",
       "2015                  66                                  16       6   \n",
       "2016                  52                                  13       4   \n",
       "2017                  59                                  12       3   \n",
       "\n",
       "     Education All other gifts  \n",
       "Year                            \n",
       "2013       274              72  \n",
       "2014       236              65  \n",
       "2015       278              77  \n",
       "2016       276              92  \n",
       "2017       314             102  \n",
       "\n",
       "[5 rows x 174 columns]"
      ]
     },
     "execution_count": 102,
     "metadata": {},
     "output_type": "execute_result"
    }
   ],
   "source": [
    "first_transformed = transform_first_df(first)\n",
    "first_transformed.head(5)"
   ]
  },
  {
   "cell_type": "code",
   "execution_count": 103,
   "id": "f7702c35",
   "metadata": {},
   "outputs": [
    {
     "data": {
      "application/vnd.microsoft.datawrangler.viewer.v0+json": {
       "columns": [
        {
         "name": "Year",
         "rawType": "int64",
         "type": "integer"
        },
        {
         "name": "Number of consumer units (in thousands) a/ ",
         "rawType": "object",
         "type": "string"
        },
        {
         "name": "Income before taxes",
         "rawType": "object",
         "type": "string"
        },
        {
         "name": "Income after taxes b/ ",
         "rawType": "object",
         "type": "string"
        },
        {
         "name": "Age of reference person",
         "rawType": "object",
         "type": "string"
        },
        {
         "name": "People",
         "rawType": "object",
         "type": "string"
        },
        {
         "name": "Children under 18",
         "rawType": "object",
         "type": "string"
        },
        {
         "name": "Adults 65 and older",
         "rawType": "object",
         "type": "string"
        },
        {
         "name": "Earners",
         "rawType": "object",
         "type": "string"
        },
        {
         "name": "Vehicles",
         "rawType": "object",
         "type": "string"
        },
        {
         "name": "Men",
         "rawType": "object",
         "type": "string"
        },
        {
         "name": "Women",
         "rawType": "object",
         "type": "string"
        },
        {
         "name": "Homeowner",
         "rawType": "object",
         "type": "string"
        },
        {
         "name": "With mortgage",
         "rawType": "object",
         "type": "string"
        },
        {
         "name": "Without mortgage",
         "rawType": "object",
         "type": "string"
        },
        {
         "name": "Renter",
         "rawType": "object",
         "type": "string"
        },
        {
         "name": "Black or African-American",
         "rawType": "object",
         "type": "string"
        },
        {
         "name": "White, Asian, and all other races, not including Black or African-American",
         "rawType": "object",
         "type": "string"
        },
        {
         "name": "Hispanic or Latino",
         "rawType": "object",
         "type": "string"
        },
        {
         "name": "Not Hispanic or Latino",
         "rawType": "object",
         "type": "string"
        },
        {
         "name": "Elementary (1-8)",
         "rawType": "object",
         "type": "string"
        },
        {
         "name": "High school (9-12)",
         "rawType": "object",
         "type": "string"
        },
        {
         "name": "College",
         "rawType": "object",
         "type": "string"
        },
        {
         "name": "Never attended and other",
         "rawType": "object",
         "type": "string"
        },
        {
         "name": "At least one vehicle owned or leased",
         "rawType": "object",
         "type": "string"
        },
        {
         "name": "Average annual expenditures",
         "rawType": "object",
         "type": "string"
        },
        {
         "name": "Food",
         "rawType": "object",
         "type": "string"
        },
        {
         "name": "Food at home",
         "rawType": "object",
         "type": "string"
        },
        {
         "name": "Cereals and bakery products",
         "rawType": "object",
         "type": "string"
        },
        {
         "name": "Cereals and cereal products",
         "rawType": "object",
         "type": "string"
        },
        {
         "name": "Bakery products",
         "rawType": "object",
         "type": "string"
        },
        {
         "name": "Meats, poultry, fish, and eggs",
         "rawType": "object",
         "type": "string"
        },
        {
         "name": "Beef",
         "rawType": "object",
         "type": "string"
        },
        {
         "name": "Pork",
         "rawType": "object",
         "type": "string"
        },
        {
         "name": "Other meats",
         "rawType": "object",
         "type": "string"
        },
        {
         "name": "Poultry",
         "rawType": "object",
         "type": "string"
        },
        {
         "name": "Fish and seafood",
         "rawType": "object",
         "type": "string"
        },
        {
         "name": "Eggs",
         "rawType": "object",
         "type": "string"
        },
        {
         "name": "Dairy products",
         "rawType": "object",
         "type": "string"
        },
        {
         "name": "Fresh milk and cream",
         "rawType": "object",
         "type": "string"
        },
        {
         "name": "Other dairy products",
         "rawType": "object",
         "type": "string"
        },
        {
         "name": "Fruits and vegetables",
         "rawType": "object",
         "type": "string"
        },
        {
         "name": "Fresh fruits",
         "rawType": "object",
         "type": "string"
        },
        {
         "name": "Fresh vegetables",
         "rawType": "object",
         "type": "string"
        },
        {
         "name": "Processed fruits",
         "rawType": "object",
         "type": "string"
        },
        {
         "name": "Processed vegetables",
         "rawType": "object",
         "type": "string"
        },
        {
         "name": "Processed fruits and vegetables",
         "rawType": "object",
         "type": "string"
        },
        {
         "name": "Other food at home",
         "rawType": "object",
         "type": "string"
        },
        {
         "name": "Sugar and other sweets",
         "rawType": "object",
         "type": "string"
        },
        {
         "name": "Fats and oils",
         "rawType": "object",
         "type": "string"
        },
        {
         "name": "Miscellaneous foods",
         "rawType": "object",
         "type": "string"
        },
        {
         "name": "Nonalcoholic beverages",
         "rawType": "object",
         "type": "string"
        },
        {
         "name": "Food prepared by consumer unit on out of town trips",
         "rawType": "object",
         "type": "string"
        },
        {
         "name": "Food away from home",
         "rawType": "object",
         "type": "string"
        },
        {
         "name": "Alcoholic beverages",
         "rawType": "object",
         "type": "string"
        },
        {
         "name": "Housing",
         "rawType": "object",
         "type": "string"
        },
        {
         "name": "Shelter",
         "rawType": "object",
         "type": "string"
        },
        {
         "name": "Owned dwellings",
         "rawType": "object",
         "type": "string"
        },
        {
         "name": "Mortgage interest and charges",
         "rawType": "object",
         "type": "string"
        },
        {
         "name": "Property taxes",
         "rawType": "object",
         "type": "string"
        },
        {
         "name": "Maintenance, repairs, insurance, and other expenses",
         "rawType": "object",
         "type": "string"
        },
        {
         "name": "Rented dwellings",
         "rawType": "object",
         "type": "string"
        },
        {
         "name": "Other lodging",
         "rawType": "object",
         "type": "string"
        },
        {
         "name": "Utilities, fuels, and public services",
         "rawType": "object",
         "type": "string"
        },
        {
         "name": "Natural gas",
         "rawType": "object",
         "type": "string"
        },
        {
         "name": "Electricity",
         "rawType": "object",
         "type": "string"
        },
        {
         "name": "Fuel oil and other fuels",
         "rawType": "object",
         "type": "string"
        },
        {
         "name": "Telephone services",
         "rawType": "object",
         "type": "string"
        },
        {
         "name": "Residential phone service, VOIP, and phone cards",
         "rawType": "object",
         "type": "string"
        },
        {
         "name": "Cellular phone service",
         "rawType": "object",
         "type": "string"
        },
        {
         "name": "Water and other public services",
         "rawType": "object",
         "type": "string"
        },
        {
         "name": "Household operations",
         "rawType": "object",
         "type": "string"
        },
        {
         "name": "Personal services",
         "rawType": "object",
         "type": "string"
        },
        {
         "name": "Other household expenses",
         "rawType": "object",
         "type": "string"
        },
        {
         "name": "Housekeeping supplies",
         "rawType": "object",
         "type": "string"
        },
        {
         "name": "Laundry and cleaning supplies",
         "rawType": "object",
         "type": "string"
        },
        {
         "name": "Laundry and cleaning products (new UCC Q20231)",
         "rawType": "object",
         "type": "string"
        },
        {
         "name": "Other household products",
         "rawType": "object",
         "type": "string"
        },
        {
         "name": "Postage and stationery",
         "rawType": "object",
         "type": "string"
        },
        {
         "name": "Household furnishings and equipment",
         "rawType": "object",
         "type": "string"
        },
        {
         "name": "Household textiles",
         "rawType": "object",
         "type": "string"
        },
        {
         "name": "Furniture",
         "rawType": "object",
         "type": "string"
        },
        {
         "name": "Floor coverings",
         "rawType": "object",
         "type": "string"
        },
        {
         "name": "Major appliances",
         "rawType": "object",
         "type": "string"
        },
        {
         "name": "Small appliances and miscellaneous housewares",
         "rawType": "object",
         "type": "string"
        },
        {
         "name": "Miscellaneous household equipment",
         "rawType": "object",
         "type": "string"
        },
        {
         "name": "Apparel and services",
         "rawType": "object",
         "type": "string"
        },
        {
         "name": "Men and boys",
         "rawType": "object",
         "type": "string"
        },
        {
         "name": "Men, 16 and over",
         "rawType": "object",
         "type": "string"
        },
        {
         "name": "Boys, 2 to 15",
         "rawType": "object",
         "type": "string"
        },
        {
         "name": "Women and girls",
         "rawType": "object",
         "type": "string"
        },
        {
         "name": "Women, 16 and over",
         "rawType": "object",
         "type": "string"
        },
        {
         "name": "Girls, 2 to 15",
         "rawType": "object",
         "type": "string"
        },
        {
         "name": "Children under 2",
         "rawType": "object",
         "type": "string"
        },
        {
         "name": "Footwear",
         "rawType": "object",
         "type": "string"
        },
        {
         "name": "Other apparel products and services",
         "rawType": "object",
         "type": "string"
        },
        {
         "name": "Transportation",
         "rawType": "object",
         "type": "string"
        },
        {
         "name": "Vehicle purchases (net outlay)",
         "rawType": "object",
         "type": "string"
        },
        {
         "name": "Cars and trucks, new",
         "rawType": "object",
         "type": "string"
        },
        {
         "name": "Cars and trucks, used",
         "rawType": "object",
         "type": "string"
        },
        {
         "name": "Other vehicles",
         "rawType": "object",
         "type": "string"
        },
        {
         "name": "Gasoline and other fuels f/ ",
         "rawType": "object",
         "type": "string"
        },
        {
         "name": "Gasoline",
         "rawType": "object",
         "type": "string"
        },
        {
         "name": "Other vehicle expenses",
         "rawType": "object",
         "type": "string"
        },
        {
         "name": "Vehicle finance charges",
         "rawType": "object",
         "type": "string"
        },
        {
         "name": "Maintenance and repairs",
         "rawType": "object",
         "type": "string"
        },
        {
         "name": "Vehicle rental, leases, licenses, and other charges",
         "rawType": "object",
         "type": "string"
        },
        {
         "name": "Vehicle insurance",
         "rawType": "object",
         "type": "string"
        },
        {
         "name": "Public and other transportation",
         "rawType": "object",
         "type": "string"
        },
        {
         "name": "Healthcare",
         "rawType": "object",
         "type": "string"
        },
        {
         "name": "Health insurance",
         "rawType": "object",
         "type": "string"
        },
        {
         "name": "Medical services",
         "rawType": "object",
         "type": "string"
        },
        {
         "name": "Drugs",
         "rawType": "object",
         "type": "string"
        },
        {
         "name": "Medical supplies",
         "rawType": "object",
         "type": "string"
        },
        {
         "name": "Entertainment",
         "rawType": "object",
         "type": "string"
        },
        {
         "name": "Fees and admissions",
         "rawType": "object",
         "type": "string"
        },
        {
         "name": "Audio and visual equipment and services",
         "rawType": "object",
         "type": "string"
        },
        {
         "name": "Pets, toys, hobbies, and playground equipment",
         "rawType": "object",
         "type": "string"
        },
        {
         "name": "Pets",
         "rawType": "object",
         "type": "string"
        },
        {
         "name": "Toys, hobbies, and playground equipment",
         "rawType": "object",
         "type": "string"
        },
        {
         "name": "Other entertainment supplies, equipment, and services",
         "rawType": "object",
         "type": "string"
        },
        {
         "name": "Personal care products and services",
         "rawType": "object",
         "type": "string"
        },
        {
         "name": "Reading",
         "rawType": "object",
         "type": "string"
        },
        {
         "name": "Education",
         "rawType": "object",
         "type": "string"
        },
        {
         "name": "Tobacco products and smoking supplies",
         "rawType": "object",
         "type": "string"
        },
        {
         "name": "Miscellaneous",
         "rawType": "object",
         "type": "string"
        },
        {
         "name": "Cash contributions",
         "rawType": "object",
         "type": "string"
        },
        {
         "name": "Personal insurance and pensions",
         "rawType": "object",
         "type": "string"
        },
        {
         "name": "Life and other personal insurance",
         "rawType": "object",
         "type": "string"
        },
        {
         "name": "Pensions and Social Security",
         "rawType": "object",
         "type": "string"
        },
        {
         "name": "Income before taxes",
         "rawType": "object",
         "type": "string"
        },
        {
         "name": "Wages and salaries",
         "rawType": "object",
         "type": "string"
        },
        {
         "name": "Self-employment income",
         "rawType": "object",
         "type": "string"
        },
        {
         "name": "Social Security, private and government retirement",
         "rawType": "object",
         "type": "string"
        },
        {
         "name": "Interest, dividends, rental income, and other property income",
         "rawType": "object",
         "type": "string"
        },
        {
         "name": "Public assistance, Supplemental Security Income, Supplementary Nutrition Assistance Program (SNAP)",
         "rawType": "object",
         "type": "string"
        },
        {
         "name": "Unemployment and workers' compensation, veterans' benefits, and regular contributions for support",
         "rawType": "object",
         "type": "string"
        },
        {
         "name": "Other income",
         "rawType": "object",
         "type": "string"
        },
        {
         "name": "Personal taxes (contains some imputed values) b/ ",
         "rawType": "object",
         "type": "string"
        },
        {
         "name": "Federal income taxes b/ ",
         "rawType": "object",
         "type": "string"
        },
        {
         "name": "Stimulus payment (through Q20221)",
         "rawType": "object",
         "type": "string"
        },
        {
         "name": "State and local income taxes b/ ",
         "rawType": "object",
         "type": "string"
        },
        {
         "name": "Other taxes",
         "rawType": "object",
         "type": "string"
        },
        {
         "name": "Income after taxes b/ ",
         "rawType": "object",
         "type": "string"
        },
        {
         "name": "Other money receipts",
         "rawType": "object",
         "type": "string"
        },
        {
         "name": "Mortgage principal paid on owned property",
         "rawType": "object",
         "type": "string"
        },
        {
         "name": "Estimated market value of owned home",
         "rawType": "object",
         "type": "string"
        },
        {
         "name": "Estimated monthly rental value of owned home",
         "rawType": "object",
         "type": "string"
        }
       ],
       "ref": "e1f1a2be-3ccd-4bc5-9435-45cb2b37d124",
       "rows": [
        [
         "2021",
         "133,595",
         "$87,432",
         "78,743",
         "51.8",
         "2.4",
         ".6",
         ".4",
         "1.3",
         "1.9",
         "47",
         "53",
         "65",
         "38",
         "27",
         "35",
         "13",
         "87",
         "15",
         "85",
         "3",
         "28",
         "69",
         "c/",
         "89",
         "$66,928",
         "8,289",
         "5,259",
         "672",
         "210",
         "462",
         "1,115",
         "293",
         "223",
         "151",
         "203",
         "178",
         "68",
         "492",
         "157",
         "335",
         "1,033",
         "378",
         "328",
         "133",
         "194",
         "e/",
         "1,947",
         "182",
         "133",
         "1,049",
         "515",
         "69",
         "3,030",
         "554",
         "22,624",
         "13,258",
         "7,591",
         "2,781",
         "2,475",
         "2,335",
         "4,684",
         "983",
         "4,223",
         "447",
         "1,551",
         "122",
         "1,409",
         "165",
         "1,244",
         "695",
         "1,638",
         "377",
         "1,261",
         "803",
         "178",
         "e/",
         "514",
         "111",
         "2,701",
         "122",
         "716",
         "33",
         "464",
         "142",
         "1,225",
         "1,754",
         "424",
         "310",
         "114",
         "659",
         "549",
         "110",
         "66",
         "336",
         "269",
         "10,961",
         "4,828",
         "2,210",
         "2,555",
         "63",
         "e/",
         "1,948",
         "3,534",
         "272",
         "975",
         "760",
         "1,528",
         "452",
         "5,452",
         "3,704",
         "1,070",
         "498",
         "181",
         "3,568",
         "654",
         "1,020",
         "969",
         "770",
         "199",
         "925",
         "771",
         "114",
         "1,226",
         "341",
         "986",
         "2,415",
         "7,873",
         "473",
         "7,400",
         "$87,432",
         "67,409",
         "6,085",
         "9,632",
         "2,279",
         "590",
         "1,101",
         "336",
         "8,689",
         "8,561",
         "-2,542",
         "2,564",
         "105",
         "78,743",
         "1,004",
         "-2,621",
         "253,645",
         "1,265"
        ],
        [
         "2022",
         "134,090",
         "$94,003",
         "83,195",
         "52.1",
         "2.4",
         ".6",
         ".4",
         "1.3",
         "1.9",
         "49",
         "51",
         "65",
         "38",
         "27",
         "35",
         "13",
         "87",
         "15",
         "85",
         "3",
         "28",
         "69",
         "c/",
         "89",
         "$72,967",
         "9,343",
         "5,703",
         "712",
         "215",
         "497",
         "1,216",
         "317",
         "246",
         "167",
         "215",
         "183",
         "87",
         "532",
         "168",
         "364",
         "1,099",
         "406",
         "352",
         "144",
         "197",
         "e/",
         "2,144",
         "197",
         "157",
         "1,117",
         "584",
         "89",
         "3,639",
         "583",
         "24,298",
         "14,507",
         "8,230",
         "3,101",
         "2,570",
         "2,559",
         "4,990",
         "1,287",
         "4,549",
         "535",
         "1,683",
         "160",
         "1,431",
         "147",
         "1,284",
         "739",
         "1,849",
         "488",
         "1,361",
         "787",
         "170",
         "e/",
         "489",
         "128",
         "2,606",
         "138",
         "746",
         "34",
         "408",
         "142",
         "1,138",
         "1,945",
         "454",
         "347",
         "107",
         "735",
         "644",
         "91",
         "74",
         "399",
         "283",
         "12,295",
         "4,496",
         "2,195",
         "2,239",
         "62",
         "e/",
         "2,805",
         "3,834",
         "295",
         "1,160",
         "787",
         "1,592",
         "845",
         "5,850",
         "3,843",
         "1,184",
         "615",
         "209",
         "3,458",
         "833",
         "1,020",
         "908",
         "741",
         "167",
         "698",
         "866",
         "117",
         "1,335",
         "371",
         "1,009",
         "2,755",
         "8,742",
         "519",
         "8,223",
         "$94,003",
         "73,220",
         "6,442",
         "10,412",
         "2,294",
         "621",
         "668",
         "346",
         "10,809",
         "7,968",
         "0",
         "2,757",
         "84",
         "83,195",
         "d/",
         "-2,843",
         "279,189",
         "1,401"
        ],
        [
         "2023",
         "134,556",
         "$101,805",
         "87,869",
         "52.1",
         "2.5",
         ".6",
         ".4",
         "1.3",
         "1.9",
         "49",
         "51",
         "65",
         "38",
         "27",
         "35",
         "13",
         "87",
         "15",
         "85",
         "3",
         "27",
         "70",
         "d/",
         "89",
         "$77,280",
         "9,985",
         "6,053",
         "830",
         "256",
         "574",
         "1,164",
         "309",
         "217",
         "141",
         "214",
         "184",
         "99",
         "602",
         "149",
         "452",
         "988",
         "413",
         "405",
         "e/",
         "e/",
         "170",
         "2,469",
         "239",
         "144",
         "1,325",
         "663",
         "96",
         "3,933",
         "637",
         "25,436",
         "15,499",
         "8,699",
         "3,435",
         "2,666",
         "2,599",
         "5,370",
         "1,430",
         "4,625",
         "540",
         "1,763",
         "140",
         "1,403",
         "133",
         "1,270",
         "780",
         "1,985",
         "550",
         "1,435",
         "818",
         "e/",
         "193",
         "515",
         "111",
         "2,508",
         "128",
         "619",
         "27",
         "384",
         "135",
         "1,216",
         "2,041",
         "502",
         "406",
         "96",
         "742",
         "655",
         "87",
         "84",
         "444",
         "269",
         "13,174",
         "5,539",
         "2,896",
         "2,585",
         "d/",
         "2,694",
         "2,449",
         "3,845",
         "361",
         "975",
         "734",
         "1,775",
         "1,096",
         "6,159",
         "4,049",
         "1,252",
         "591",
         "267",
         "3,635",
         "951",
         "975",
         "1,057",
         "876",
         "181",
         "653",
         "950",
         "117",
         "1,656",
         "370",
         "1,184",
         "2,378",
         "9,556",
         "546",
         "9,011",
         "$101,805",
         "78,286",
         "7,749",
         "11,076",
         "3,257",
         "602",
         "505",
         "330",
         "13,937",
         "10,912",
         "e/",
         "2,942",
         "83",
         "87,869",
         "d/",
         "-2,935",
         "292,518",
         "1,500"
        ]
       ],
       "shape": {
        "columns": 147,
        "rows": 3
       }
      },
      "text/html": [
       "<div>\n",
       "<style scoped>\n",
       "    .dataframe tbody tr th:only-of-type {\n",
       "        vertical-align: middle;\n",
       "    }\n",
       "\n",
       "    .dataframe tbody tr th {\n",
       "        vertical-align: top;\n",
       "    }\n",
       "\n",
       "    .dataframe thead th {\n",
       "        text-align: right;\n",
       "    }\n",
       "</style>\n",
       "<table border=\"1\" class=\"dataframe\">\n",
       "  <thead>\n",
       "    <tr style=\"text-align: right;\">\n",
       "      <th></th>\n",
       "      <th>Number of consumer units (in thousands) a/</th>\n",
       "      <th>Income before taxes</th>\n",
       "      <th>Income after taxes b/</th>\n",
       "      <th>Age of reference person</th>\n",
       "      <th>People</th>\n",
       "      <th>Children under 18</th>\n",
       "      <th>Adults 65 and older</th>\n",
       "      <th>Earners</th>\n",
       "      <th>Vehicles</th>\n",
       "      <th>Men</th>\n",
       "      <th>...</th>\n",
       "      <th>Personal taxes (contains some imputed values) b/</th>\n",
       "      <th>Federal income taxes b/</th>\n",
       "      <th>Stimulus payment (through Q20221)</th>\n",
       "      <th>State and local income taxes b/</th>\n",
       "      <th>Other taxes</th>\n",
       "      <th>Income after taxes b/</th>\n",
       "      <th>Other money receipts</th>\n",
       "      <th>Mortgage principal paid on owned property</th>\n",
       "      <th>Estimated market value of owned home</th>\n",
       "      <th>Estimated monthly rental value of owned home</th>\n",
       "    </tr>\n",
       "    <tr>\n",
       "      <th>Year</th>\n",
       "      <th></th>\n",
       "      <th></th>\n",
       "      <th></th>\n",
       "      <th></th>\n",
       "      <th></th>\n",
       "      <th></th>\n",
       "      <th></th>\n",
       "      <th></th>\n",
       "      <th></th>\n",
       "      <th></th>\n",
       "      <th></th>\n",
       "      <th></th>\n",
       "      <th></th>\n",
       "      <th></th>\n",
       "      <th></th>\n",
       "      <th></th>\n",
       "      <th></th>\n",
       "      <th></th>\n",
       "      <th></th>\n",
       "      <th></th>\n",
       "      <th></th>\n",
       "    </tr>\n",
       "  </thead>\n",
       "  <tbody>\n",
       "    <tr>\n",
       "      <th>2021</th>\n",
       "      <td>133,595</td>\n",
       "      <td>$87,432</td>\n",
       "      <td>78,743</td>\n",
       "      <td>51.8</td>\n",
       "      <td>2.4</td>\n",
       "      <td>.6</td>\n",
       "      <td>.4</td>\n",
       "      <td>1.3</td>\n",
       "      <td>1.9</td>\n",
       "      <td>47</td>\n",
       "      <td>...</td>\n",
       "      <td>8,689</td>\n",
       "      <td>8,561</td>\n",
       "      <td>-2,542</td>\n",
       "      <td>2,564</td>\n",
       "      <td>105</td>\n",
       "      <td>78,743</td>\n",
       "      <td>1,004</td>\n",
       "      <td>-2,621</td>\n",
       "      <td>253,645</td>\n",
       "      <td>1,265</td>\n",
       "    </tr>\n",
       "    <tr>\n",
       "      <th>2022</th>\n",
       "      <td>134,090</td>\n",
       "      <td>$94,003</td>\n",
       "      <td>83,195</td>\n",
       "      <td>52.1</td>\n",
       "      <td>2.4</td>\n",
       "      <td>.6</td>\n",
       "      <td>.4</td>\n",
       "      <td>1.3</td>\n",
       "      <td>1.9</td>\n",
       "      <td>49</td>\n",
       "      <td>...</td>\n",
       "      <td>10,809</td>\n",
       "      <td>7,968</td>\n",
       "      <td>0</td>\n",
       "      <td>2,757</td>\n",
       "      <td>84</td>\n",
       "      <td>83,195</td>\n",
       "      <td>d/</td>\n",
       "      <td>-2,843</td>\n",
       "      <td>279,189</td>\n",
       "      <td>1,401</td>\n",
       "    </tr>\n",
       "    <tr>\n",
       "      <th>2023</th>\n",
       "      <td>134,556</td>\n",
       "      <td>$101,805</td>\n",
       "      <td>87,869</td>\n",
       "      <td>52.1</td>\n",
       "      <td>2.5</td>\n",
       "      <td>.6</td>\n",
       "      <td>.4</td>\n",
       "      <td>1.3</td>\n",
       "      <td>1.9</td>\n",
       "      <td>49</td>\n",
       "      <td>...</td>\n",
       "      <td>13,937</td>\n",
       "      <td>10,912</td>\n",
       "      <td>e/</td>\n",
       "      <td>2,942</td>\n",
       "      <td>83</td>\n",
       "      <td>87,869</td>\n",
       "      <td>d/</td>\n",
       "      <td>-2,935</td>\n",
       "      <td>292,518</td>\n",
       "      <td>1,500</td>\n",
       "    </tr>\n",
       "  </tbody>\n",
       "</table>\n",
       "<p>3 rows × 147 columns</p>\n",
       "</div>"
      ],
      "text/plain": [
       "     Number of consumer units (in thousands) a/  Income before taxes  \\\n",
       "Year                                                                   \n",
       "2021                                     133,595             $87,432   \n",
       "2022                                     134,090             $94,003   \n",
       "2023                                     134,556            $101,805   \n",
       "\n",
       "     Income after taxes b/  Age of reference person People Children under 18  \\\n",
       "Year                                                                           \n",
       "2021                 78,743                    51.8    2.4                .6   \n",
       "2022                 83,195                    52.1    2.4                .6   \n",
       "2023                 87,869                    52.1    2.5                .6   \n",
       "\n",
       "     Adults 65 and older Earners Vehicles Men  ...  \\\n",
       "Year                                           ...   \n",
       "2021                  .4     1.3      1.9  47  ...   \n",
       "2022                  .4     1.3      1.9  49  ...   \n",
       "2023                  .4     1.3      1.9  49  ...   \n",
       "\n",
       "     Personal taxes (contains some imputed values) b/   \\\n",
       "Year                                                     \n",
       "2021                                             8,689   \n",
       "2022                                            10,809   \n",
       "2023                                            13,937   \n",
       "\n",
       "     Federal income taxes b/  Stimulus payment (through Q20221)  \\\n",
       "Year                                                              \n",
       "2021                    8,561                            -2,542   \n",
       "2022                    7,968                                 0   \n",
       "2023                   10,912                                e/   \n",
       "\n",
       "     State and local income taxes b/  Other taxes Income after taxes b/   \\\n",
       "Year                                                                       \n",
       "2021                            2,564         105                 78,743   \n",
       "2022                            2,757          84                 83,195   \n",
       "2023                            2,942          83                 87,869   \n",
       "\n",
       "     Other money receipts Mortgage principal paid on owned property  \\\n",
       "Year                                                                  \n",
       "2021                1,004                                    -2,621   \n",
       "2022                   d/                                    -2,843   \n",
       "2023                   d/                                    -2,935   \n",
       "\n",
       "     Estimated market value of owned home  \\\n",
       "Year                                        \n",
       "2021                              253,645   \n",
       "2022                              279,189   \n",
       "2023                              292,518   \n",
       "\n",
       "     Estimated monthly rental value of owned home  \n",
       "Year                                               \n",
       "2021                                        1,265  \n",
       "2022                                        1,401  \n",
       "2023                                        1,500  \n",
       "\n",
       "[3 rows x 147 columns]"
      ]
     },
     "execution_count": 103,
     "metadata": {},
     "output_type": "execute_result"
    }
   ],
   "source": [
    "second_transformed = transform_second_df(second)\n",
    "second_transformed.head(5)"
   ]
  },
  {
   "cell_type": "code",
   "execution_count": 108,
   "id": "806d26b5",
   "metadata": {},
   "outputs": [
    {
     "name": "stdout",
     "output_type": "stream",
     "text": [
      "First DataFrame index: [2013, 2014, 2015, 2016, 2017, 2018, 2019, 2020]\n",
      "Second DataFrame index: [2021, 2022, 2023]\n",
      "First has duplicates: False\n",
      "Second has duplicates: False\n",
      "First index dtype: int64\n",
      "Second index dtype: int64\n"
     ]
    }
   ],
   "source": [
    "# Check the full index of both DataFrames\n",
    "print(\"First DataFrame index:\", first_transformed.index.tolist())\n",
    "print(\"Second DataFrame index:\", second_transformed.index.tolist())\n",
    "\n",
    "# Check for any duplicates\n",
    "print(\"First has duplicates:\", first_transformed.index.duplicated().any())\n",
    "print(\"Second has duplicates:\", second_transformed.index.duplicated().any())\n",
    "\n",
    "# Check data types\n",
    "print(\"First index dtype:\", first_transformed.index.dtype)\n",
    "print(\"Second index dtype:\", second_transformed.index.dtype)"
   ]
  },
  {
   "cell_type": "code",
   "execution_count": 117,
   "id": "64d03540",
   "metadata": {},
   "outputs": [
    {
     "name": "stdout",
     "output_type": "stream",
     "text": [
      "First shape: (8, 174)\n",
      "Second shape: (3, 147)\n",
      "First columns: ['Number of consumer units (in thousands) a/ ', 'Income before taxes', 'Income after taxes*', 'Age of reference person', 'People', 'Children under 18', 'Adults 65 and older', 'Earners', 'Vehicles', 'Men', 'Women', 'Homeowner', 'With mortgage', 'Without mortgage', 'Renter', 'Black or African-American', 'White, Asian, and all other races', 'Hispanic or Latino', 'Not Hispanic or Latino', 'Elementary (1-8)', 'High school (9-12)', 'College', 'Never attended and other', 'At least one vehicle owned or leased', 'Average annual expenditures', 'Food', 'Food at home', 'Cereals and bakery products', 'Cereals and cereal products', 'Bakery products', 'Meats, poultry, fish, and eggs', 'Beef', 'Pork', 'Other meats', 'Poultry', 'Fish and seafood', 'Eggs', 'Dairy products', 'Fresh milk and cream', 'Other dairy products', 'Fruits and vegetables', 'Fresh fruits', 'Fresh vegetables', 'Processed fruits', 'Processed vegetables', 'Other food at home', 'Sugar and other sweets', 'Fats and oils', 'Miscellaneous foods', 'Nonalcoholic beverages', 'Food prepared by consumer unit on out-of-town trips', 'Food away from home', 'Alcoholic beverages', 'Housing', 'Shelter', 'Owned dwellings', 'Mortgage interest and charges', 'Property taxes', 'Maintenance, repairs, insurance, other expenses', 'Rented dwellings', 'Other lodging', 'Utilities, fuels, and public services', 'Natural gas', 'Electricity', 'Fuel oil and other fuels', 'Telephone services', 'Residential phone service, VOIP, and phone cards', 'Cellular phone service', 'Water and other public services', 'Household operations', 'Personal services', 'Other household expenses', 'Housekeeping supplies', 'Laundry and cleaning supplies', 'Other household products', 'Postage and stationery', 'Household furnishings and equipment', 'Household textiles', 'Furniture', 'Floor coverings', 'Major appliances', 'Small appliances, miscellaneous housewares', 'Miscellaneous household equipment', 'Apparel and services', 'Men and boys', 'Men, 16 and over', 'Boys, 2 to 15', 'Women and girls', 'Women, 16 and over', 'Girls, 2 to 15', 'Children under 2', 'Footwear', 'Other apparel products and services', 'Transportation', 'Vehicle purchases (net outlay)', 'Cars and trucks, new', 'Cars and trucks, used', 'Other vehicles', 'Gasoline, other fuels, and motor oil', 'Other vehicle expenses', 'Vehicle finance charges', 'Maintenance and repairs', 'Vehicle rental, leases, licenses, and other charges', 'Vehicle insurance', 'Public and other transportation', 'Healthcare', 'Health insurance**', 'Medical services', 'Drugs', 'Medical supplies', 'Entertainment', 'Fees and admissions', 'Audio and visual equipment and services', 'Pets, toys, hobbies, and playground equipment', 'Pets', 'Toys, hobbies, and playground equipment', 'Other entertainment supplies, equipment, and services', 'Personal care products and services', 'Reading', 'Education***', 'Tobacco products and smoking supplies', 'Miscellaneous***', 'Cash contributions', 'Personal insurance and pensions', 'Life and other personal insurance', 'Pensions and Social Security', 'Income before taxes', 'Wages and salaries', 'Self-employment income', 'Social Security, private and government retirement', 'Interest, dividends, rental income, other property income', 'Public assistance, Supplemental Security Income, Supplementary Nutrition Assistance Program (SNAP)', \"Unemployment and workers' compensation, veterans' benefits, and regular contributions for support\", 'Other income', 'Personal taxes (contains some imputed values)*', 'Federal income taxes', 'Stimulus payment (new UCC Q20202)#', 'State and local income taxes', 'Other taxes', 'Income after taxes*', 'Net change in total assets and liabilities', 'Net change in total assets', 'Net change in total liabilities', 'Other money receipts', 'Mortgage principal paid on owned property', 'Estimated market value of owned home', 'Estimated monthly rental value of owned home', 'Gifts of good and services, total (thru 2019)', 'Food', 'Alcoholic beverages', 'Housing', 'Housekeeping supplies', 'Household textiles', 'Appliances and miscellaneous housewares', 'Major appliances', 'Small appliances and miscellaneous housewares', 'Miscellaneous household equipment', 'Other housing', 'Apparel and services', 'Males, 2 and over', 'Females, 2 and over', 'Children under 2', 'Other apparel products and services', 'Jewelry and watches', 'All other apparel products and services', 'Transportation', 'Healthcare', 'Entertainment', 'Toys, games, arts and crafts, and tricycles', 'Other entertainment', 'Personal care products and services', 'Reading', 'Education', 'All other gifts']\n",
      "Second columns: ['Number of consumer units (in thousands) a/ ', 'Income before taxes', 'Income after taxes b/ ', 'Age of reference person', 'People', 'Children under 18', 'Adults 65 and older', 'Earners', 'Vehicles', 'Men', 'Women', 'Homeowner', 'With mortgage', 'Without mortgage', 'Renter', 'Black or African-American', 'White, Asian, and all other races, not including Black or African-American', 'Hispanic or Latino', 'Not Hispanic or Latino', 'Elementary (1-8)', 'High school (9-12)', 'College', 'Never attended and other', 'At least one vehicle owned or leased', 'Average annual expenditures', 'Food', 'Food at home', 'Cereals and bakery products', 'Cereals and cereal products', 'Bakery products', 'Meats, poultry, fish, and eggs', 'Beef', 'Pork', 'Other meats', 'Poultry', 'Fish and seafood', 'Eggs', 'Dairy products', 'Fresh milk and cream', 'Other dairy products', 'Fruits and vegetables', 'Fresh fruits', 'Fresh vegetables', 'Processed fruits', 'Processed vegetables', 'Processed fruits and vegetables', 'Other food at home', 'Sugar and other sweets', 'Fats and oils', 'Miscellaneous foods', 'Nonalcoholic beverages', 'Food prepared by consumer unit on out of town trips', 'Food away from home', 'Alcoholic beverages', 'Housing', 'Shelter', 'Owned dwellings', 'Mortgage interest and charges', 'Property taxes', 'Maintenance, repairs, insurance, and other expenses', 'Rented dwellings', 'Other lodging', 'Utilities, fuels, and public services', 'Natural gas', 'Electricity', 'Fuel oil and other fuels', 'Telephone services', 'Residential phone service, VOIP, and phone cards', 'Cellular phone service', 'Water and other public services', 'Household operations', 'Personal services', 'Other household expenses', 'Housekeeping supplies', 'Laundry and cleaning supplies', 'Laundry and cleaning products (new UCC Q20231)', 'Other household products', 'Postage and stationery', 'Household furnishings and equipment', 'Household textiles', 'Furniture', 'Floor coverings', 'Major appliances', 'Small appliances and miscellaneous housewares', 'Miscellaneous household equipment', 'Apparel and services', 'Men and boys', 'Men, 16 and over', 'Boys, 2 to 15', 'Women and girls', 'Women, 16 and over', 'Girls, 2 to 15', 'Children under 2', 'Footwear', 'Other apparel products and services', 'Transportation', 'Vehicle purchases (net outlay)', 'Cars and trucks, new', 'Cars and trucks, used', 'Other vehicles', 'Gasoline and other fuels f/ ', 'Gasoline', 'Other vehicle expenses', 'Vehicle finance charges', 'Maintenance and repairs', 'Vehicle rental, leases, licenses, and other charges', 'Vehicle insurance', 'Public and other transportation', 'Healthcare', 'Health insurance', 'Medical services', 'Drugs', 'Medical supplies', 'Entertainment', 'Fees and admissions', 'Audio and visual equipment and services', 'Pets, toys, hobbies, and playground equipment', 'Pets', 'Toys, hobbies, and playground equipment', 'Other entertainment supplies, equipment, and services', 'Personal care products and services', 'Reading', 'Education', 'Tobacco products and smoking supplies', 'Miscellaneous', 'Cash contributions', 'Personal insurance and pensions', 'Life and other personal insurance', 'Pensions and Social Security', 'Income before taxes', 'Wages and salaries', 'Self-employment income', 'Social Security, private and government retirement', 'Interest, dividends, rental income, and other property income', 'Public assistance, Supplemental Security Income, Supplementary Nutrition Assistance Program (SNAP)', \"Unemployment and workers' compensation, veterans' benefits, and regular contributions for support\", 'Other income', 'Personal taxes (contains some imputed values) b/ ', 'Federal income taxes b/ ', 'Stimulus payment (through Q20221)', 'State and local income taxes b/ ', 'Other taxes', 'Income after taxes b/ ', 'Other money receipts', 'Mortgage principal paid on owned property', 'Estimated market value of owned home', 'Estimated monthly rental value of owned home']\n"
     ]
    }
   ],
   "source": [
    "# Check the actual shape and info\n",
    "print(\"First shape:\", first_transformed.shape)\n",
    "print(\"Second shape:\", second_transformed.shape)\n",
    "print(\"First columns:\", first_transformed.columns.tolist())\n",
    "print(\"Second columns:\", second_transformed.columns.tolist())"
   ]
  },
  {
   "cell_type": "code",
   "execution_count": 116,
   "id": "7e34474d",
   "metadata": {},
   "outputs": [
    {
     "ename": "InvalidIndexError",
     "evalue": "Reindexing only valid with uniquely valued Index objects",
     "output_type": "error",
     "traceback": [
      "\u001b[0;31m---------------------------------------------------------------------------\u001b[0m",
      "\u001b[0;31mInvalidIndexError\u001b[0m                         Traceback (most recent call last)",
      "Cell \u001b[0;32mIn[116], line 1\u001b[0m\n\u001b[0;32m----> 1\u001b[0m combined_df \u001b[38;5;241m=\u001b[39m pd\u001b[38;5;241m.\u001b[39mconcat([first_transformed, second_transformed], join\u001b[38;5;241m=\u001b[39m\u001b[38;5;124m'\u001b[39m\u001b[38;5;124mouter\u001b[39m\u001b[38;5;124m'\u001b[39m, ignore_index\u001b[38;5;241m=\u001b[39m\u001b[38;5;28;01mTrue\u001b[39;00m, sort\u001b[38;5;241m=\u001b[39m\u001b[38;5;28;01mFalse\u001b[39;00m)\n\u001b[1;32m      2\u001b[0m combined_df\n",
      "File \u001b[0;32m~/anaconda3/lib/python3.11/site-packages/pandas/core/reshape/concat.py:395\u001b[0m, in \u001b[0;36mconcat\u001b[0;34m(objs, axis, join, ignore_index, keys, levels, names, verify_integrity, sort, copy)\u001b[0m\n\u001b[1;32m    380\u001b[0m     copy \u001b[38;5;241m=\u001b[39m \u001b[38;5;28;01mFalse\u001b[39;00m\n\u001b[1;32m    382\u001b[0m op \u001b[38;5;241m=\u001b[39m _Concatenator(\n\u001b[1;32m    383\u001b[0m     objs,\n\u001b[1;32m    384\u001b[0m     axis\u001b[38;5;241m=\u001b[39maxis,\n\u001b[0;32m   (...)\u001b[0m\n\u001b[1;32m    392\u001b[0m     sort\u001b[38;5;241m=\u001b[39msort,\n\u001b[1;32m    393\u001b[0m )\n\u001b[0;32m--> 395\u001b[0m \u001b[38;5;28;01mreturn\u001b[39;00m op\u001b[38;5;241m.\u001b[39mget_result()\n",
      "File \u001b[0;32m~/anaconda3/lib/python3.11/site-packages/pandas/core/reshape/concat.py:680\u001b[0m, in \u001b[0;36m_Concatenator.get_result\u001b[0;34m(self)\u001b[0m\n\u001b[1;32m    678\u001b[0m         obj_labels \u001b[38;5;241m=\u001b[39m obj\u001b[38;5;241m.\u001b[39maxes[\u001b[38;5;241m1\u001b[39m \u001b[38;5;241m-\u001b[39m ax]\n\u001b[1;32m    679\u001b[0m         \u001b[38;5;28;01mif\u001b[39;00m \u001b[38;5;129;01mnot\u001b[39;00m new_labels\u001b[38;5;241m.\u001b[39mequals(obj_labels):\n\u001b[0;32m--> 680\u001b[0m             indexers[ax] \u001b[38;5;241m=\u001b[39m obj_labels\u001b[38;5;241m.\u001b[39mget_indexer(new_labels)\n\u001b[1;32m    682\u001b[0m     mgrs_indexers\u001b[38;5;241m.\u001b[39mappend((obj\u001b[38;5;241m.\u001b[39m_mgr, indexers))\n\u001b[1;32m    684\u001b[0m new_data \u001b[38;5;241m=\u001b[39m concatenate_managers(\n\u001b[1;32m    685\u001b[0m     mgrs_indexers, \u001b[38;5;28mself\u001b[39m\u001b[38;5;241m.\u001b[39mnew_axes, concat_axis\u001b[38;5;241m=\u001b[39m\u001b[38;5;28mself\u001b[39m\u001b[38;5;241m.\u001b[39mbm_axis, copy\u001b[38;5;241m=\u001b[39m\u001b[38;5;28mself\u001b[39m\u001b[38;5;241m.\u001b[39mcopy\n\u001b[1;32m    686\u001b[0m )\n",
      "File \u001b[0;32m~/anaconda3/lib/python3.11/site-packages/pandas/core/indexes/base.py:3885\u001b[0m, in \u001b[0;36mIndex.get_indexer\u001b[0;34m(self, target, method, limit, tolerance)\u001b[0m\n\u001b[1;32m   3882\u001b[0m \u001b[38;5;28mself\u001b[39m\u001b[38;5;241m.\u001b[39m_check_indexing_method(method, limit, tolerance)\n\u001b[1;32m   3884\u001b[0m \u001b[38;5;28;01mif\u001b[39;00m \u001b[38;5;129;01mnot\u001b[39;00m \u001b[38;5;28mself\u001b[39m\u001b[38;5;241m.\u001b[39m_index_as_unique:\n\u001b[0;32m-> 3885\u001b[0m     \u001b[38;5;28;01mraise\u001b[39;00m InvalidIndexError(\u001b[38;5;28mself\u001b[39m\u001b[38;5;241m.\u001b[39m_requires_unique_msg)\n\u001b[1;32m   3887\u001b[0m \u001b[38;5;28;01mif\u001b[39;00m \u001b[38;5;28mlen\u001b[39m(target) \u001b[38;5;241m==\u001b[39m \u001b[38;5;241m0\u001b[39m:\n\u001b[1;32m   3888\u001b[0m     \u001b[38;5;28;01mreturn\u001b[39;00m np\u001b[38;5;241m.\u001b[39marray([], dtype\u001b[38;5;241m=\u001b[39mnp\u001b[38;5;241m.\u001b[39mintp)\n",
      "\u001b[0;31mInvalidIndexError\u001b[0m: Reindexing only valid with uniquely valued Index objects"
     ]
    }
   ],
   "source": [
    "combined_df = pd.concat([first_transformed, second_transformed], join='outer', ignore_index=True, sort=False)\n",
    "combined_df"
   ]
  },
  {
   "cell_type": "code",
   "execution_count": null,
   "id": "26e63f75",
   "metadata": {},
   "outputs": [],
   "source": []
  }
 ],
 "metadata": {
  "kernelspec": {
   "display_name": "base",
   "language": "python",
   "name": "python3"
  },
  "language_info": {
   "codemirror_mode": {
    "name": "ipython",
    "version": 3
   },
   "file_extension": ".py",
   "mimetype": "text/x-python",
   "name": "python",
   "nbconvert_exporter": "python",
   "pygments_lexer": "ipython3",
   "version": "3.11.8"
  }
 },
 "nbformat": 4,
 "nbformat_minor": 5
}
